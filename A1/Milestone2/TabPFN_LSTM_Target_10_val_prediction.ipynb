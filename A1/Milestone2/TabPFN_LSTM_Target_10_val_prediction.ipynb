{
  "cells": [
    {
      "cell_type": "code",
      "execution_count": 1,
      "metadata": {
        "colab": {
          "base_uri": "https://localhost:8080/"
        },
        "id": "9mpvpHNDi5j1",
        "outputId": "c6a9f107-bf90-484f-c791-2c9dbd22f03a"
      },
      "outputs": [
        {
          "name": "stdout",
          "output_type": "stream",
          "text": [
            "Requirement already satisfied: tabpfn in c:\\users\\aaditya gupta\\appdata\\local\\packages\\pythonsoftwarefoundation.python.3.9_qbz5n2kfra8p0\\localcache\\local-packages\\python39\\site-packages (0.1.10)\n",
            "Requirement already satisfied: scikit-learn>=0.24.2 in c:\\users\\aaditya gupta\\appdata\\local\\packages\\pythonsoftwarefoundation.python.3.9_qbz5n2kfra8p0\\localcache\\local-packages\\python39\\site-packages (from tabpfn) (1.1.1)\n",
            "Requirement already satisfied: pyyaml>=5.4.1 in c:\\users\\aaditya gupta\\appdata\\local\\packages\\pythonsoftwarefoundation.python.3.9_qbz5n2kfra8p0\\localcache\\local-packages\\python39\\site-packages (from tabpfn) (6.0)\n",
            "Requirement already satisfied: numpy>=1.21.2 in c:\\users\\aaditya gupta\\appdata\\local\\packages\\pythonsoftwarefoundation.python.3.9_qbz5n2kfra8p0\\localcache\\local-packages\\python39\\site-packages (from tabpfn) (1.21.2)\n",
            "Requirement already satisfied: torch>=1.9.0 in c:\\users\\aaditya gupta\\appdata\\local\\packages\\pythonsoftwarefoundation.python.3.9_qbz5n2kfra8p0\\localcache\\local-packages\\python39\\site-packages (from tabpfn) (2.1.1)\n",
            "Requirement already satisfied: requests>=2.23.0 in c:\\users\\aaditya gupta\\appdata\\local\\packages\\pythonsoftwarefoundation.python.3.9_qbz5n2kfra8p0\\localcache\\local-packages\\python39\\site-packages (from tabpfn) (2.28.1)\n",
            "Requirement already satisfied: certifi>=2017.4.17 in c:\\users\\aaditya gupta\\appdata\\local\\packages\\pythonsoftwarefoundation.python.3.9_qbz5n2kfra8p0\\localcache\\local-packages\\python39\\site-packages (from requests>=2.23.0->tabpfn) (2022.6.15)\n",
            "Requirement already satisfied: charset-normalizer<3,>=2 in c:\\users\\aaditya gupta\\appdata\\local\\packages\\pythonsoftwarefoundation.python.3.9_qbz5n2kfra8p0\\localcache\\local-packages\\python39\\site-packages (from requests>=2.23.0->tabpfn) (2.1.0)\n",
            "Requirement already satisfied: idna<4,>=2.5 in c:\\users\\aaditya gupta\\appdata\\local\\packages\\pythonsoftwarefoundation.python.3.9_qbz5n2kfra8p0\\localcache\\local-packages\\python39\\site-packages (from requests>=2.23.0->tabpfn) (3.3)\n",
            "Requirement already satisfied: urllib3<1.27,>=1.21.1 in c:\\users\\aaditya gupta\\appdata\\local\\packages\\pythonsoftwarefoundation.python.3.9_qbz5n2kfra8p0\\localcache\\local-packages\\python39\\site-packages (from requests>=2.23.0->tabpfn) (1.26.11)\n",
            "Requirement already satisfied: joblib>=1.0.0 in c:\\users\\aaditya gupta\\appdata\\local\\packages\\pythonsoftwarefoundation.python.3.9_qbz5n2kfra8p0\\localcache\\local-packages\\python39\\site-packages (from scikit-learn>=0.24.2->tabpfn) (1.1.0)\n",
            "Requirement already satisfied: threadpoolctl>=2.0.0 in c:\\users\\aaditya gupta\\appdata\\local\\packages\\pythonsoftwarefoundation.python.3.9_qbz5n2kfra8p0\\localcache\\local-packages\\python39\\site-packages (from scikit-learn>=0.24.2->tabpfn) (3.1.0)\n",
            "Requirement already satisfied: scipy>=1.3.2 in c:\\users\\aaditya gupta\\appdata\\local\\packages\\pythonsoftwarefoundation.python.3.9_qbz5n2kfra8p0\\localcache\\local-packages\\python39\\site-packages (from scikit-learn>=0.24.2->tabpfn) (1.8.1)\n",
            "Requirement already satisfied: sympy in c:\\users\\aaditya gupta\\appdata\\local\\packages\\pythonsoftwarefoundation.python.3.9_qbz5n2kfra8p0\\localcache\\local-packages\\python39\\site-packages (from torch>=1.9.0->tabpfn) (1.12)\n",
            "Requirement already satisfied: networkx in c:\\users\\aaditya gupta\\appdata\\local\\packages\\pythonsoftwarefoundation.python.3.9_qbz5n2kfra8p0\\localcache\\local-packages\\python39\\site-packages (from torch>=1.9.0->tabpfn) (3.2.1)\n",
            "Requirement already satisfied: filelock in c:\\users\\aaditya gupta\\appdata\\local\\packages\\pythonsoftwarefoundation.python.3.9_qbz5n2kfra8p0\\localcache\\local-packages\\python39\\site-packages (from torch>=1.9.0->tabpfn) (3.7.1)\n",
            "Requirement already satisfied: jinja2 in c:\\users\\aaditya gupta\\appdata\\local\\packages\\pythonsoftwarefoundation.python.3.9_qbz5n2kfra8p0\\localcache\\local-packages\\python39\\site-packages (from torch>=1.9.0->tabpfn) (3.1.1)\n",
            "Requirement already satisfied: typing-extensions in c:\\users\\aaditya gupta\\appdata\\local\\packages\\pythonsoftwarefoundation.python.3.9_qbz5n2kfra8p0\\localcache\\local-packages\\python39\\site-packages (from torch>=1.9.0->tabpfn) (4.3.0)\n",
            "Requirement already satisfied: fsspec in c:\\users\\aaditya gupta\\appdata\\local\\packages\\pythonsoftwarefoundation.python.3.9_qbz5n2kfra8p0\\localcache\\local-packages\\python39\\site-packages (from torch>=1.9.0->tabpfn) (2023.3.0)\n",
            "Requirement already satisfied: MarkupSafe>=2.0 in c:\\users\\aaditya gupta\\appdata\\local\\packages\\pythonsoftwarefoundation.python.3.9_qbz5n2kfra8p0\\localcache\\local-packages\\python39\\site-packages (from jinja2->torch>=1.9.0->tabpfn) (2.1.1)\n",
            "Requirement already satisfied: mpmath>=0.19 in c:\\users\\aaditya gupta\\appdata\\local\\packages\\pythonsoftwarefoundation.python.3.9_qbz5n2kfra8p0\\localcache\\local-packages\\python39\\site-packages (from sympy->torch>=1.9.0->tabpfn) (1.3.0)\n",
            "\n",
            "[notice] A new release of pip available: 22.2 -> 24.0\n",
            "[notice] To update, run: C:\\Users\\Aaditya Gupta\\AppData\\Local\\Microsoft\\WindowsApps\\PythonSoftwareFoundation.Python.3.9_qbz5n2kfra8p0\\python.exe -m pip install --upgrade pip\n"
          ]
        },
        {
          "name": "stderr",
          "output_type": "stream",
          "text": [
            "WARNING: Ignoring invalid distribution -rotobuf (c:\\users\\aaditya gupta\\appdata\\local\\packages\\pythonsoftwarefoundation.python.3.9_qbz5n2kfra8p0\\localcache\\local-packages\\python39\\site-packages)\n",
            "WARNING: Ignoring invalid distribution -illow (c:\\users\\aaditya gupta\\appdata\\local\\packages\\pythonsoftwarefoundation.python.3.9_qbz5n2kfra8p0\\localcache\\local-packages\\python39\\site-packages)\n",
            "WARNING: Ignoring invalid distribution -rotobuf (c:\\users\\aaditya gupta\\appdata\\local\\packages\\pythonsoftwarefoundation.python.3.9_qbz5n2kfra8p0\\localcache\\local-packages\\python39\\site-packages)\n",
            "WARNING: Ignoring invalid distribution -illow (c:\\users\\aaditya gupta\\appdata\\local\\packages\\pythonsoftwarefoundation.python.3.9_qbz5n2kfra8p0\\localcache\\local-packages\\python39\\site-packages)\n",
            "WARNING: Ignoring invalid distribution -rotobuf (c:\\users\\aaditya gupta\\appdata\\local\\packages\\pythonsoftwarefoundation.python.3.9_qbz5n2kfra8p0\\localcache\\local-packages\\python39\\site-packages)\n",
            "WARNING: Ignoring invalid distribution -illow (c:\\users\\aaditya gupta\\appdata\\local\\packages\\pythonsoftwarefoundation.python.3.9_qbz5n2kfra8p0\\localcache\\local-packages\\python39\\site-packages)\n",
            "WARNING: Ignoring invalid distribution -rotobuf (c:\\users\\aaditya gupta\\appdata\\local\\packages\\pythonsoftwarefoundation.python.3.9_qbz5n2kfra8p0\\localcache\\local-packages\\python39\\site-packages)\n",
            "WARNING: Ignoring invalid distribution -illow (c:\\users\\aaditya gupta\\appdata\\local\\packages\\pythonsoftwarefoundation.python.3.9_qbz5n2kfra8p0\\localcache\\local-packages\\python39\\site-packages)\n",
            "WARNING: Ignoring invalid distribution -rotobuf (c:\\users\\aaditya gupta\\appdata\\local\\packages\\pythonsoftwarefoundation.python.3.9_qbz5n2kfra8p0\\localcache\\local-packages\\python39\\site-packages)\n",
            "WARNING: Ignoring invalid distribution -illow (c:\\users\\aaditya gupta\\appdata\\local\\packages\\pythonsoftwarefoundation.python.3.9_qbz5n2kfra8p0\\localcache\\local-packages\\python39\\site-packages)\n",
            "WARNING: Ignoring invalid distribution -rotobuf (c:\\users\\aaditya gupta\\appdata\\local\\packages\\pythonsoftwarefoundation.python.3.9_qbz5n2kfra8p0\\localcache\\local-packages\\python39\\site-packages)\n",
            "WARNING: Ignoring invalid distribution -illow (c:\\users\\aaditya gupta\\appdata\\local\\packages\\pythonsoftwarefoundation.python.3.9_qbz5n2kfra8p0\\localcache\\local-packages\\python39\\site-packages)\n"
          ]
        }
      ],
      "source": [
        "!pip install tabpfn"
      ]
    },
    {
      "cell_type": "code",
      "execution_count": 2,
      "metadata": {
        "id": "NSHGdhN3hErd"
      },
      "outputs": [],
      "source": [
        "from sklearn.metrics import accuracy_score\n",
        "from tabpfn.scripts.decision_boundary import DecisionBoundaryDisplay\n",
        "from tabpfn import TabPFNClassifier\n",
        "import pandas as pd\n",
        "import time\n",
        "from tabpfn.scripts.decision_boundary import DecisionBoundaryDisplay"
      ]
    },
    {
      "cell_type": "code",
      "execution_count": 3,
      "metadata": {
        "id": "6owDa6Eqi3cs"
      },
      "outputs": [],
      "source": [
        "import pandas as pd\n",
        "import numpy as np"
      ]
    },
    {
      "cell_type": "code",
      "execution_count": 4,
      "metadata": {
        "id": "XFBbvECyjEC0"
      },
      "outputs": [],
      "source": [
        "df_hard = pd.read_csv(\"C:/Users/Aaditya Gupta/OneDrive/Desktop/AML_A2/df_synA_test_hard_shuffled_sample.csv\")"
      ]
    },
    {
      "cell_type": "code",
      "execution_count": 5,
      "metadata": {
        "colab": {
          "base_uri": "https://localhost:8080/",
          "height": 429
        },
        "id": "mK9GsFLpjVa1",
        "outputId": "5aae7bde-365b-4145-c2b9-309a27466170"
      },
      "outputs": [
        {
          "data": {
            "text/html": [
              "<div>\n",
              "<style scoped>\n",
              "    .dataframe tbody tr th:only-of-type {\n",
              "        vertical-align: middle;\n",
              "    }\n",
              "\n",
              "    .dataframe tbody tr th {\n",
              "        vertical-align: top;\n",
              "    }\n",
              "\n",
              "    .dataframe thead th {\n",
              "        text-align: right;\n",
              "    }\n",
              "</style>\n",
              "<table border=\"1\" class=\"dataframe\">\n",
              "  <thead>\n",
              "    <tr style=\"text-align: right;\">\n",
              "      <th></th>\n",
              "      <th>Open_n_val</th>\n",
              "      <th>High_n_val</th>\n",
              "      <th>Low_n_val</th>\n",
              "      <th>Close_n_val</th>\n",
              "      <th>Volume_n_val</th>\n",
              "      <th>SMA_10_val</th>\n",
              "      <th>SMA_20_val</th>\n",
              "      <th>CMO_14_val</th>\n",
              "      <th>High_n-Low_n_val</th>\n",
              "      <th>Open_n-Close_n_val</th>\n",
              "      <th>...</th>\n",
              "      <th>SMA_20-SMA_10_changelen_val</th>\n",
              "      <th>Close_n_slope_3_changelen_val</th>\n",
              "      <th>Close_n_slope_5_changelen_val</th>\n",
              "      <th>Close_n_slope_10_changelen_val</th>\n",
              "      <th>row_num</th>\n",
              "      <th>day</th>\n",
              "      <th>era</th>\n",
              "      <th>target_10_val</th>\n",
              "      <th>target_5_val</th>\n",
              "      <th>data_type</th>\n",
              "    </tr>\n",
              "  </thead>\n",
              "  <tbody>\n",
              "    <tr>\n",
              "      <th>0</th>\n",
              "      <td>0.75</td>\n",
              "      <td>0.75</td>\n",
              "      <td>0.50</td>\n",
              "      <td>0.75</td>\n",
              "      <td>0.0</td>\n",
              "      <td>0.25</td>\n",
              "      <td>0.25</td>\n",
              "      <td>1.00</td>\n",
              "      <td>0.75</td>\n",
              "      <td>0.50</td>\n",
              "      <td>...</td>\n",
              "      <td>0.25</td>\n",
              "      <td>0.00</td>\n",
              "      <td>0.75</td>\n",
              "      <td>1.00</td>\n",
              "      <td>96</td>\n",
              "      <td>456</td>\n",
              "      <td>17</td>\n",
              "      <td>0.00</td>\n",
              "      <td>0.25</td>\n",
              "      <td>validation</td>\n",
              "    </tr>\n",
              "    <tr>\n",
              "      <th>1</th>\n",
              "      <td>0.00</td>\n",
              "      <td>0.00</td>\n",
              "      <td>0.00</td>\n",
              "      <td>0.25</td>\n",
              "      <td>0.0</td>\n",
              "      <td>0.00</td>\n",
              "      <td>0.00</td>\n",
              "      <td>0.50</td>\n",
              "      <td>0.25</td>\n",
              "      <td>0.00</td>\n",
              "      <td>...</td>\n",
              "      <td>0.00</td>\n",
              "      <td>1.00</td>\n",
              "      <td>1.00</td>\n",
              "      <td>1.00</td>\n",
              "      <td>109</td>\n",
              "      <td>477</td>\n",
              "      <td>14</td>\n",
              "      <td>1.00</td>\n",
              "      <td>1.00</td>\n",
              "      <td>validation</td>\n",
              "    </tr>\n",
              "    <tr>\n",
              "      <th>2</th>\n",
              "      <td>0.00</td>\n",
              "      <td>0.25</td>\n",
              "      <td>0.50</td>\n",
              "      <td>0.00</td>\n",
              "      <td>0.0</td>\n",
              "      <td>0.00</td>\n",
              "      <td>0.00</td>\n",
              "      <td>0.25</td>\n",
              "      <td>0.00</td>\n",
              "      <td>0.50</td>\n",
              "      <td>...</td>\n",
              "      <td>1.00</td>\n",
              "      <td>0.00</td>\n",
              "      <td>0.50</td>\n",
              "      <td>0.00</td>\n",
              "      <td>136</td>\n",
              "      <td>514</td>\n",
              "      <td>0</td>\n",
              "      <td>0.75</td>\n",
              "      <td>0.25</td>\n",
              "      <td>validation</td>\n",
              "    </tr>\n",
              "    <tr>\n",
              "      <th>3</th>\n",
              "      <td>0.00</td>\n",
              "      <td>0.00</td>\n",
              "      <td>0.00</td>\n",
              "      <td>0.00</td>\n",
              "      <td>0.0</td>\n",
              "      <td>0.00</td>\n",
              "      <td>0.00</td>\n",
              "      <td>0.25</td>\n",
              "      <td>0.75</td>\n",
              "      <td>0.25</td>\n",
              "      <td>...</td>\n",
              "      <td>0.00</td>\n",
              "      <td>0.25</td>\n",
              "      <td>0.25</td>\n",
              "      <td>0.25</td>\n",
              "      <td>109</td>\n",
              "      <td>446</td>\n",
              "      <td>15</td>\n",
              "      <td>1.00</td>\n",
              "      <td>1.00</td>\n",
              "      <td>validation</td>\n",
              "    </tr>\n",
              "    <tr>\n",
              "      <th>4</th>\n",
              "      <td>0.75</td>\n",
              "      <td>0.75</td>\n",
              "      <td>0.75</td>\n",
              "      <td>0.75</td>\n",
              "      <td>0.0</td>\n",
              "      <td>0.75</td>\n",
              "      <td>0.75</td>\n",
              "      <td>0.75</td>\n",
              "      <td>0.25</td>\n",
              "      <td>0.75</td>\n",
              "      <td>...</td>\n",
              "      <td>0.50</td>\n",
              "      <td>0.00</td>\n",
              "      <td>0.50</td>\n",
              "      <td>0.75</td>\n",
              "      <td>99</td>\n",
              "      <td>535</td>\n",
              "      <td>3</td>\n",
              "      <td>0.25</td>\n",
              "      <td>0.75</td>\n",
              "      <td>validation</td>\n",
              "    </tr>\n",
              "    <tr>\n",
              "      <th>5</th>\n",
              "      <td>0.50</td>\n",
              "      <td>0.50</td>\n",
              "      <td>0.50</td>\n",
              "      <td>0.25</td>\n",
              "      <td>0.0</td>\n",
              "      <td>0.50</td>\n",
              "      <td>0.50</td>\n",
              "      <td>0.25</td>\n",
              "      <td>0.50</td>\n",
              "      <td>0.75</td>\n",
              "      <td>...</td>\n",
              "      <td>0.75</td>\n",
              "      <td>0.00</td>\n",
              "      <td>0.50</td>\n",
              "      <td>0.25</td>\n",
              "      <td>88</td>\n",
              "      <td>535</td>\n",
              "      <td>1</td>\n",
              "      <td>0.25</td>\n",
              "      <td>1.00</td>\n",
              "      <td>validation</td>\n",
              "    </tr>\n",
              "    <tr>\n",
              "      <th>6</th>\n",
              "      <td>0.25</td>\n",
              "      <td>0.25</td>\n",
              "      <td>0.25</td>\n",
              "      <td>0.25</td>\n",
              "      <td>0.0</td>\n",
              "      <td>0.25</td>\n",
              "      <td>0.25</td>\n",
              "      <td>1.00</td>\n",
              "      <td>0.25</td>\n",
              "      <td>0.00</td>\n",
              "      <td>...</td>\n",
              "      <td>0.50</td>\n",
              "      <td>0.50</td>\n",
              "      <td>0.50</td>\n",
              "      <td>0.25</td>\n",
              "      <td>95</td>\n",
              "      <td>541</td>\n",
              "      <td>23</td>\n",
              "      <td>0.00</td>\n",
              "      <td>0.25</td>\n",
              "      <td>validation</td>\n",
              "    </tr>\n",
              "    <tr>\n",
              "      <th>7</th>\n",
              "      <td>0.25</td>\n",
              "      <td>0.25</td>\n",
              "      <td>0.25</td>\n",
              "      <td>0.75</td>\n",
              "      <td>0.0</td>\n",
              "      <td>0.25</td>\n",
              "      <td>0.25</td>\n",
              "      <td>1.00</td>\n",
              "      <td>0.25</td>\n",
              "      <td>0.00</td>\n",
              "      <td>...</td>\n",
              "      <td>0.50</td>\n",
              "      <td>0.50</td>\n",
              "      <td>0.50</td>\n",
              "      <td>0.50</td>\n",
              "      <td>92</td>\n",
              "      <td>488</td>\n",
              "      <td>16</td>\n",
              "      <td>0.00</td>\n",
              "      <td>0.25</td>\n",
              "      <td>validation</td>\n",
              "    </tr>\n",
              "    <tr>\n",
              "      <th>8</th>\n",
              "      <td>0.00</td>\n",
              "      <td>0.25</td>\n",
              "      <td>0.00</td>\n",
              "      <td>0.25</td>\n",
              "      <td>0.0</td>\n",
              "      <td>0.25</td>\n",
              "      <td>0.50</td>\n",
              "      <td>0.25</td>\n",
              "      <td>0.75</td>\n",
              "      <td>0.00</td>\n",
              "      <td>...</td>\n",
              "      <td>1.00</td>\n",
              "      <td>0.50</td>\n",
              "      <td>0.50</td>\n",
              "      <td>0.25</td>\n",
              "      <td>96</td>\n",
              "      <td>521</td>\n",
              "      <td>16</td>\n",
              "      <td>1.00</td>\n",
              "      <td>0.75</td>\n",
              "      <td>validation</td>\n",
              "    </tr>\n",
              "    <tr>\n",
              "      <th>9</th>\n",
              "      <td>0.25</td>\n",
              "      <td>0.25</td>\n",
              "      <td>0.25</td>\n",
              "      <td>0.25</td>\n",
              "      <td>0.0</td>\n",
              "      <td>0.25</td>\n",
              "      <td>0.25</td>\n",
              "      <td>0.25</td>\n",
              "      <td>0.50</td>\n",
              "      <td>0.25</td>\n",
              "      <td>...</td>\n",
              "      <td>1.00</td>\n",
              "      <td>0.75</td>\n",
              "      <td>0.75</td>\n",
              "      <td>0.50</td>\n",
              "      <td>108</td>\n",
              "      <td>500</td>\n",
              "      <td>16</td>\n",
              "      <td>1.00</td>\n",
              "      <td>1.00</td>\n",
              "      <td>validation</td>\n",
              "    </tr>\n",
              "  </tbody>\n",
              "</table>\n",
              "<p>10 rows × 30 columns</p>\n",
              "</div>"
            ],
            "text/plain": [
              "   Open_n_val  High_n_val  Low_n_val  Close_n_val  Volume_n_val  SMA_10_val  \\\n",
              "0        0.75        0.75       0.50         0.75           0.0        0.25   \n",
              "1        0.00        0.00       0.00         0.25           0.0        0.00   \n",
              "2        0.00        0.25       0.50         0.00           0.0        0.00   \n",
              "3        0.00        0.00       0.00         0.00           0.0        0.00   \n",
              "4        0.75        0.75       0.75         0.75           0.0        0.75   \n",
              "5        0.50        0.50       0.50         0.25           0.0        0.50   \n",
              "6        0.25        0.25       0.25         0.25           0.0        0.25   \n",
              "7        0.25        0.25       0.25         0.75           0.0        0.25   \n",
              "8        0.00        0.25       0.00         0.25           0.0        0.25   \n",
              "9        0.25        0.25       0.25         0.25           0.0        0.25   \n",
              "\n",
              "   SMA_20_val  CMO_14_val  High_n-Low_n_val  Open_n-Close_n_val  ...  \\\n",
              "0        0.25        1.00              0.75                0.50  ...   \n",
              "1        0.00        0.50              0.25                0.00  ...   \n",
              "2        0.00        0.25              0.00                0.50  ...   \n",
              "3        0.00        0.25              0.75                0.25  ...   \n",
              "4        0.75        0.75              0.25                0.75  ...   \n",
              "5        0.50        0.25              0.50                0.75  ...   \n",
              "6        0.25        1.00              0.25                0.00  ...   \n",
              "7        0.25        1.00              0.25                0.00  ...   \n",
              "8        0.50        0.25              0.75                0.00  ...   \n",
              "9        0.25        0.25              0.50                0.25  ...   \n",
              "\n",
              "   SMA_20-SMA_10_changelen_val  Close_n_slope_3_changelen_val  \\\n",
              "0                         0.25                           0.00   \n",
              "1                         0.00                           1.00   \n",
              "2                         1.00                           0.00   \n",
              "3                         0.00                           0.25   \n",
              "4                         0.50                           0.00   \n",
              "5                         0.75                           0.00   \n",
              "6                         0.50                           0.50   \n",
              "7                         0.50                           0.50   \n",
              "8                         1.00                           0.50   \n",
              "9                         1.00                           0.75   \n",
              "\n",
              "   Close_n_slope_5_changelen_val  Close_n_slope_10_changelen_val  row_num  \\\n",
              "0                           0.75                            1.00       96   \n",
              "1                           1.00                            1.00      109   \n",
              "2                           0.50                            0.00      136   \n",
              "3                           0.25                            0.25      109   \n",
              "4                           0.50                            0.75       99   \n",
              "5                           0.50                            0.25       88   \n",
              "6                           0.50                            0.25       95   \n",
              "7                           0.50                            0.50       92   \n",
              "8                           0.50                            0.25       96   \n",
              "9                           0.75                            0.50      108   \n",
              "\n",
              "   day  era  target_10_val  target_5_val   data_type  \n",
              "0  456   17           0.00          0.25  validation  \n",
              "1  477   14           1.00          1.00  validation  \n",
              "2  514    0           0.75          0.25  validation  \n",
              "3  446   15           1.00          1.00  validation  \n",
              "4  535    3           0.25          0.75  validation  \n",
              "5  535    1           0.25          1.00  validation  \n",
              "6  541   23           0.00          0.25  validation  \n",
              "7  488   16           0.00          0.25  validation  \n",
              "8  521   16           1.00          0.75  validation  \n",
              "9  500   16           1.00          1.00  validation  \n",
              "\n",
              "[10 rows x 30 columns]"
            ]
          },
          "execution_count": 5,
          "metadata": {},
          "output_type": "execute_result"
        }
      ],
      "source": [
        "df_hard.head(10)"
      ]
    },
    {
      "cell_type": "code",
      "execution_count": 6,
      "metadata": {
        "id": "UDenhEY-xufG"
      },
      "outputs": [],
      "source": [
        "df_hard_ = df_hard.sort_values(by=['row_num'])"
      ]
    },
    {
      "cell_type": "code",
      "execution_count": 7,
      "metadata": {
        "id": "RSjR_Rz3x2Vm"
      },
      "outputs": [],
      "source": [
        "df_hard_.reset_index(inplace = True)"
      ]
    },
    {
      "cell_type": "code",
      "execution_count": 8,
      "metadata": {
        "id": "KQW7LduKyAse"
      },
      "outputs": [],
      "source": [
        "df_hard_ = df_hard_.drop(columns=['index'])"
      ]
    },
    {
      "cell_type": "code",
      "execution_count": 48,
      "metadata": {
        "colab": {
          "base_uri": "https://localhost:8080/",
          "height": 461
        },
        "id": "usTEKqtJyU5C",
        "outputId": "57b79e56-0cc0-4e70-98c1-3432e858c933"
      },
      "outputs": [
        {
          "data": {
            "text/html": [
              "<div>\n",
              "<style scoped>\n",
              "    .dataframe tbody tr th:only-of-type {\n",
              "        vertical-align: middle;\n",
              "    }\n",
              "\n",
              "    .dataframe tbody tr th {\n",
              "        vertical-align: top;\n",
              "    }\n",
              "\n",
              "    .dataframe thead th {\n",
              "        text-align: right;\n",
              "    }\n",
              "</style>\n",
              "<table border=\"1\" class=\"dataframe\">\n",
              "  <thead>\n",
              "    <tr style=\"text-align: right;\">\n",
              "      <th></th>\n",
              "      <th>Open_n_val</th>\n",
              "      <th>High_n_val</th>\n",
              "      <th>Low_n_val</th>\n",
              "      <th>Close_n_val</th>\n",
              "      <th>Volume_n_val</th>\n",
              "      <th>SMA_10_val</th>\n",
              "      <th>SMA_20_val</th>\n",
              "      <th>CMO_14_val</th>\n",
              "      <th>High_n-Low_n_val</th>\n",
              "      <th>Open_n-Close_n_val</th>\n",
              "      <th>...</th>\n",
              "      <th>SMA_20-SMA_10_changelen_val</th>\n",
              "      <th>Close_n_slope_3_changelen_val</th>\n",
              "      <th>Close_n_slope_5_changelen_val</th>\n",
              "      <th>Close_n_slope_10_changelen_val</th>\n",
              "      <th>row_num</th>\n",
              "      <th>day</th>\n",
              "      <th>era</th>\n",
              "      <th>target_10_val</th>\n",
              "      <th>target_5_val</th>\n",
              "      <th>data_type</th>\n",
              "    </tr>\n",
              "  </thead>\n",
              "  <tbody>\n",
              "    <tr>\n",
              "      <th>0</th>\n",
              "      <td>0.25</td>\n",
              "      <td>0.50</td>\n",
              "      <td>0.50</td>\n",
              "      <td>0.5</td>\n",
              "      <td>0.0</td>\n",
              "      <td>0.50</td>\n",
              "      <td>1.00</td>\n",
              "      <td>0.00</td>\n",
              "      <td>0.50</td>\n",
              "      <td>0.00</td>\n",
              "      <td>...</td>\n",
              "      <td>0.25</td>\n",
              "      <td>1.00</td>\n",
              "      <td>1.00</td>\n",
              "      <td>1.00</td>\n",
              "      <td>75</td>\n",
              "      <td>526</td>\n",
              "      <td>7</td>\n",
              "      <td>1.00</td>\n",
              "      <td>1.00</td>\n",
              "      <td>validation</td>\n",
              "    </tr>\n",
              "    <tr>\n",
              "      <th>1</th>\n",
              "      <td>0.25</td>\n",
              "      <td>0.25</td>\n",
              "      <td>0.50</td>\n",
              "      <td>0.5</td>\n",
              "      <td>0.0</td>\n",
              "      <td>0.00</td>\n",
              "      <td>0.25</td>\n",
              "      <td>0.50</td>\n",
              "      <td>0.00</td>\n",
              "      <td>0.00</td>\n",
              "      <td>...</td>\n",
              "      <td>0.50</td>\n",
              "      <td>1.00</td>\n",
              "      <td>1.00</td>\n",
              "      <td>0.75</td>\n",
              "      <td>75</td>\n",
              "      <td>380</td>\n",
              "      <td>17</td>\n",
              "      <td>0.00</td>\n",
              "      <td>1.00</td>\n",
              "      <td>validation</td>\n",
              "    </tr>\n",
              "    <tr>\n",
              "      <th>2</th>\n",
              "      <td>0.75</td>\n",
              "      <td>0.75</td>\n",
              "      <td>0.75</td>\n",
              "      <td>0.5</td>\n",
              "      <td>0.0</td>\n",
              "      <td>1.00</td>\n",
              "      <td>1.00</td>\n",
              "      <td>0.00</td>\n",
              "      <td>0.00</td>\n",
              "      <td>1.00</td>\n",
              "      <td>...</td>\n",
              "      <td>0.75</td>\n",
              "      <td>0.25</td>\n",
              "      <td>0.00</td>\n",
              "      <td>0.00</td>\n",
              "      <td>75</td>\n",
              "      <td>521</td>\n",
              "      <td>17</td>\n",
              "      <td>0.75</td>\n",
              "      <td>0.75</td>\n",
              "      <td>validation</td>\n",
              "    </tr>\n",
              "    <tr>\n",
              "      <th>3</th>\n",
              "      <td>0.75</td>\n",
              "      <td>0.50</td>\n",
              "      <td>0.50</td>\n",
              "      <td>0.5</td>\n",
              "      <td>0.0</td>\n",
              "      <td>0.25</td>\n",
              "      <td>0.50</td>\n",
              "      <td>0.50</td>\n",
              "      <td>0.75</td>\n",
              "      <td>0.75</td>\n",
              "      <td>...</td>\n",
              "      <td>1.00</td>\n",
              "      <td>0.00</td>\n",
              "      <td>0.00</td>\n",
              "      <td>0.25</td>\n",
              "      <td>75</td>\n",
              "      <td>500</td>\n",
              "      <td>17</td>\n",
              "      <td>0.25</td>\n",
              "      <td>1.00</td>\n",
              "      <td>validation</td>\n",
              "    </tr>\n",
              "    <tr>\n",
              "      <th>4</th>\n",
              "      <td>1.00</td>\n",
              "      <td>0.75</td>\n",
              "      <td>0.75</td>\n",
              "      <td>0.5</td>\n",
              "      <td>0.0</td>\n",
              "      <td>1.00</td>\n",
              "      <td>1.00</td>\n",
              "      <td>0.00</td>\n",
              "      <td>0.50</td>\n",
              "      <td>1.00</td>\n",
              "      <td>...</td>\n",
              "      <td>1.00</td>\n",
              "      <td>0.25</td>\n",
              "      <td>0.25</td>\n",
              "      <td>0.25</td>\n",
              "      <td>75</td>\n",
              "      <td>488</td>\n",
              "      <td>0</td>\n",
              "      <td>0.75</td>\n",
              "      <td>1.00</td>\n",
              "      <td>validation</td>\n",
              "    </tr>\n",
              "    <tr>\n",
              "      <th>5</th>\n",
              "      <td>0.75</td>\n",
              "      <td>0.75</td>\n",
              "      <td>0.50</td>\n",
              "      <td>0.5</td>\n",
              "      <td>0.0</td>\n",
              "      <td>0.00</td>\n",
              "      <td>0.00</td>\n",
              "      <td>1.00</td>\n",
              "      <td>0.50</td>\n",
              "      <td>1.00</td>\n",
              "      <td>...</td>\n",
              "      <td>0.50</td>\n",
              "      <td>0.75</td>\n",
              "      <td>1.00</td>\n",
              "      <td>1.00</td>\n",
              "      <td>75</td>\n",
              "      <td>467</td>\n",
              "      <td>22</td>\n",
              "      <td>0.25</td>\n",
              "      <td>0.75</td>\n",
              "      <td>validation</td>\n",
              "    </tr>\n",
              "    <tr>\n",
              "      <th>6</th>\n",
              "      <td>0.50</td>\n",
              "      <td>0.50</td>\n",
              "      <td>0.50</td>\n",
              "      <td>0.5</td>\n",
              "      <td>0.0</td>\n",
              "      <td>1.00</td>\n",
              "      <td>1.00</td>\n",
              "      <td>0.25</td>\n",
              "      <td>0.00</td>\n",
              "      <td>0.25</td>\n",
              "      <td>...</td>\n",
              "      <td>1.00</td>\n",
              "      <td>1.00</td>\n",
              "      <td>0.75</td>\n",
              "      <td>0.75</td>\n",
              "      <td>75</td>\n",
              "      <td>474</td>\n",
              "      <td>15</td>\n",
              "      <td>1.00</td>\n",
              "      <td>1.00</td>\n",
              "      <td>validation</td>\n",
              "    </tr>\n",
              "    <tr>\n",
              "      <th>7</th>\n",
              "      <td>0.50</td>\n",
              "      <td>0.75</td>\n",
              "      <td>0.75</td>\n",
              "      <td>0.5</td>\n",
              "      <td>0.0</td>\n",
              "      <td>1.00</td>\n",
              "      <td>1.00</td>\n",
              "      <td>0.00</td>\n",
              "      <td>0.50</td>\n",
              "      <td>0.75</td>\n",
              "      <td>...</td>\n",
              "      <td>0.25</td>\n",
              "      <td>1.00</td>\n",
              "      <td>0.50</td>\n",
              "      <td>0.50</td>\n",
              "      <td>75</td>\n",
              "      <td>514</td>\n",
              "      <td>7</td>\n",
              "      <td>0.00</td>\n",
              "      <td>0.00</td>\n",
              "      <td>validation</td>\n",
              "    </tr>\n",
              "    <tr>\n",
              "      <th>8</th>\n",
              "      <td>0.75</td>\n",
              "      <td>0.75</td>\n",
              "      <td>0.50</td>\n",
              "      <td>0.5</td>\n",
              "      <td>0.0</td>\n",
              "      <td>0.50</td>\n",
              "      <td>0.25</td>\n",
              "      <td>0.75</td>\n",
              "      <td>1.00</td>\n",
              "      <td>1.00</td>\n",
              "      <td>...</td>\n",
              "      <td>0.50</td>\n",
              "      <td>0.50</td>\n",
              "      <td>0.50</td>\n",
              "      <td>0.50</td>\n",
              "      <td>75</td>\n",
              "      <td>544</td>\n",
              "      <td>8</td>\n",
              "      <td>1.00</td>\n",
              "      <td>0.75</td>\n",
              "      <td>validation</td>\n",
              "    </tr>\n",
              "    <tr>\n",
              "      <th>9</th>\n",
              "      <td>0.50</td>\n",
              "      <td>0.50</td>\n",
              "      <td>0.50</td>\n",
              "      <td>0.5</td>\n",
              "      <td>0.0</td>\n",
              "      <td>1.00</td>\n",
              "      <td>1.00</td>\n",
              "      <td>0.00</td>\n",
              "      <td>0.25</td>\n",
              "      <td>1.00</td>\n",
              "      <td>...</td>\n",
              "      <td>1.00</td>\n",
              "      <td>0.00</td>\n",
              "      <td>0.00</td>\n",
              "      <td>0.00</td>\n",
              "      <td>75</td>\n",
              "      <td>386</td>\n",
              "      <td>7</td>\n",
              "      <td>0.00</td>\n",
              "      <td>0.00</td>\n",
              "      <td>validation</td>\n",
              "    </tr>\n",
              "    <tr>\n",
              "      <th>10</th>\n",
              "      <td>0.50</td>\n",
              "      <td>0.50</td>\n",
              "      <td>0.50</td>\n",
              "      <td>0.5</td>\n",
              "      <td>0.0</td>\n",
              "      <td>0.00</td>\n",
              "      <td>0.00</td>\n",
              "      <td>0.75</td>\n",
              "      <td>0.25</td>\n",
              "      <td>0.75</td>\n",
              "      <td>...</td>\n",
              "      <td>0.00</td>\n",
              "      <td>0.50</td>\n",
              "      <td>0.50</td>\n",
              "      <td>0.50</td>\n",
              "      <td>75</td>\n",
              "      <td>512</td>\n",
              "      <td>14</td>\n",
              "      <td>0.00</td>\n",
              "      <td>0.00</td>\n",
              "      <td>validation</td>\n",
              "    </tr>\n",
              "  </tbody>\n",
              "</table>\n",
              "<p>11 rows × 30 columns</p>\n",
              "</div>"
            ],
            "text/plain": [
              "    Open_n_val  High_n_val  Low_n_val  Close_n_val  Volume_n_val  SMA_10_val  \\\n",
              "0         0.25        0.50       0.50          0.5           0.0        0.50   \n",
              "1         0.25        0.25       0.50          0.5           0.0        0.00   \n",
              "2         0.75        0.75       0.75          0.5           0.0        1.00   \n",
              "3         0.75        0.50       0.50          0.5           0.0        0.25   \n",
              "4         1.00        0.75       0.75          0.5           0.0        1.00   \n",
              "5         0.75        0.75       0.50          0.5           0.0        0.00   \n",
              "6         0.50        0.50       0.50          0.5           0.0        1.00   \n",
              "7         0.50        0.75       0.75          0.5           0.0        1.00   \n",
              "8         0.75        0.75       0.50          0.5           0.0        0.50   \n",
              "9         0.50        0.50       0.50          0.5           0.0        1.00   \n",
              "10        0.50        0.50       0.50          0.5           0.0        0.00   \n",
              "\n",
              "    SMA_20_val  CMO_14_val  High_n-Low_n_val  Open_n-Close_n_val  ...  \\\n",
              "0         1.00        0.00              0.50                0.00  ...   \n",
              "1         0.25        0.50              0.00                0.00  ...   \n",
              "2         1.00        0.00              0.00                1.00  ...   \n",
              "3         0.50        0.50              0.75                0.75  ...   \n",
              "4         1.00        0.00              0.50                1.00  ...   \n",
              "5         0.00        1.00              0.50                1.00  ...   \n",
              "6         1.00        0.25              0.00                0.25  ...   \n",
              "7         1.00        0.00              0.50                0.75  ...   \n",
              "8         0.25        0.75              1.00                1.00  ...   \n",
              "9         1.00        0.00              0.25                1.00  ...   \n",
              "10        0.00        0.75              0.25                0.75  ...   \n",
              "\n",
              "    SMA_20-SMA_10_changelen_val  Close_n_slope_3_changelen_val  \\\n",
              "0                          0.25                           1.00   \n",
              "1                          0.50                           1.00   \n",
              "2                          0.75                           0.25   \n",
              "3                          1.00                           0.00   \n",
              "4                          1.00                           0.25   \n",
              "5                          0.50                           0.75   \n",
              "6                          1.00                           1.00   \n",
              "7                          0.25                           1.00   \n",
              "8                          0.50                           0.50   \n",
              "9                          1.00                           0.00   \n",
              "10                         0.00                           0.50   \n",
              "\n",
              "    Close_n_slope_5_changelen_val  Close_n_slope_10_changelen_val  row_num  \\\n",
              "0                            1.00                            1.00       75   \n",
              "1                            1.00                            0.75       75   \n",
              "2                            0.00                            0.00       75   \n",
              "3                            0.00                            0.25       75   \n",
              "4                            0.25                            0.25       75   \n",
              "5                            1.00                            1.00       75   \n",
              "6                            0.75                            0.75       75   \n",
              "7                            0.50                            0.50       75   \n",
              "8                            0.50                            0.50       75   \n",
              "9                            0.00                            0.00       75   \n",
              "10                           0.50                            0.50       75   \n",
              "\n",
              "    day  era  target_10_val  target_5_val   data_type  \n",
              "0   526    7           1.00          1.00  validation  \n",
              "1   380   17           0.00          1.00  validation  \n",
              "2   521   17           0.75          0.75  validation  \n",
              "3   500   17           0.25          1.00  validation  \n",
              "4   488    0           0.75          1.00  validation  \n",
              "5   467   22           0.25          0.75  validation  \n",
              "6   474   15           1.00          1.00  validation  \n",
              "7   514    7           0.00          0.00  validation  \n",
              "8   544    8           1.00          0.75  validation  \n",
              "9   386    7           0.00          0.00  validation  \n",
              "10  512   14           0.00          0.00  validation  \n",
              "\n",
              "[11 rows x 30 columns]"
            ]
          },
          "execution_count": 48,
          "metadata": {},
          "output_type": "execute_result"
        }
      ],
      "source": [
        "df_hard_.head(11)"
      ]
    },
    {
      "cell_type": "code",
      "execution_count": 49,
      "metadata": {
        "colab": {
          "base_uri": "https://localhost:8080/"
        },
        "id": "PccqV0aGz8Gh",
        "outputId": "175026f2-6073-4abc-d428-7bad662ad6c6"
      },
      "outputs": [
        {
          "data": {
            "text/plain": [
              "array([ 75,  76,  77,  78,  79,  80,  81,  82,  83,  84,  85,  86,  87,\n",
              "        88,  89,  90,  91,  92,  93,  94,  95,  96,  97,  98,  99, 100,\n",
              "       101, 102, 103, 104, 105, 106, 107, 108, 109, 110, 111, 112, 113,\n",
              "       114, 115, 116, 117, 118, 119, 120, 121, 122, 123, 124, 125, 126,\n",
              "       127, 128, 129, 130, 131, 132, 133, 134, 135, 136, 137, 138, 139],\n",
              "      dtype=int64)"
            ]
          },
          "execution_count": 49,
          "metadata": {},
          "output_type": "execute_result"
        }
      ],
      "source": [
        "df_hard_['row_num'].unique()"
      ]
    },
    {
      "cell_type": "code",
      "execution_count": 12,
      "metadata": {
        "colab": {
          "base_uri": "https://localhost:8080/"
        },
        "id": "yHDC9-VlzhZZ",
        "outputId": "55a6877c-19d4-4970-e8ac-acb349883cb4"
      },
      "outputs": [
        {
          "name": "stdout",
          "output_type": "stream",
          "text": [
            "20782\n",
            "20811\n",
            "20903\n",
            "20804\n",
            "20672\n",
            "20856\n",
            "20644\n",
            "20731\n",
            "20643\n",
            "20860\n",
            "20950\n"
          ]
        }
      ],
      "source": [
        "v=df_hard_['era'][0]\n",
        "count=0\n",
        "for i in range(len(df_hard_)):\n",
        "  if(df_hard_['era'][i]==v):\n",
        "    count+=1\n",
        "  else:\n",
        "    v = df_hard_['era'][i]\n",
        "    print(count)\n",
        "    count=0"
      ]
    },
    {
      "cell_type": "code",
      "execution_count": 9,
      "metadata": {
        "id": "1YH5ubg0wnM6"
      },
      "outputs": [],
      "source": [
        "X_data, y_data = df_hard_.drop(columns=['era','target_10_val'\t,'target_5_val',\t'data_type']), df_hard_['target_10_val']"
      ]
    },
    {
      "cell_type": "code",
      "execution_count": 51,
      "metadata": {
        "colab": {
          "base_uri": "https://localhost:8080/"
        },
        "id": "uYzN4PZ61m01",
        "outputId": "84eb7523-2fdd-493a-d9e9-57daf72514d1"
      },
      "outputs": [
        {
          "data": {
            "text/plain": [
              "0    1.00\n",
              "1    0.00\n",
              "2    0.75\n",
              "3    0.25\n",
              "4    0.75\n",
              "5    0.25\n",
              "6    1.00\n",
              "7    0.00\n",
              "8    1.00\n",
              "9    0.00\n",
              "Name: target_10_val, dtype: float64"
            ]
          },
          "execution_count": 51,
          "metadata": {},
          "output_type": "execute_result"
        }
      ],
      "source": [
        "y_data[:10]"
      ]
    },
    {
      "cell_type": "code",
      "execution_count": 52,
      "metadata": {
        "colab": {
          "base_uri": "https://localhost:8080/"
        },
        "id": "xuKil-7IzB-d",
        "outputId": "78762deb-5e4c-4942-8620-88456e96c1ba"
      },
      "outputs": [
        {
          "name": "stdout",
          "output_type": "stream",
          "text": [
            "249600 249600\n"
          ]
        }
      ],
      "source": [
        "import torch\n",
        "from torch.utils.data import DataLoader, TensorDataset\n",
        "from sklearn.model_selection import train_test_split\n",
        "from transformers import BertTokenizer, BertForSequenceClassification\n",
        "import numpy as np\n",
        "\n",
        "# Assuming you have time series data\n",
        "# Preprocess the data (e.g., windowing)\n",
        "def preprocess_time_series_data(X_data, y_data, window_size):\n",
        "    print(len(X_data),len(y_data))\n",
        "    X, y = [], []\n",
        "    for i in range(0,len(X_data) - window_size):\n",
        "        X.append(X_data[i:i+window_size])\n",
        "        y.append(y_data[i+window_size-1])\n",
        "    return np.array(X), np.array(y)\n",
        "\n",
        "# Generate example time series data\n",
        "# time_series_data = np.sin(np.linspace(0, 10, 1000))  # Example sinusoidal time series data\n",
        "window_size = 10\n",
        "X, y = preprocess_time_series_data(X_data,y_data, window_size)\n",
        "\n",
        "\n"
      ]
    },
    {
      "cell_type": "code",
      "execution_count": 53,
      "metadata": {
        "colab": {
          "base_uri": "https://localhost:8080/"
        },
        "id": "buDYf2aJ38tG",
        "outputId": "960d7a67-7b2d-4d9d-afa7-a48a9ccb6823"
      },
      "outputs": [
        {
          "data": {
            "text/plain": [
              "((249590, 10, 26), (249590,))"
            ]
          },
          "execution_count": 53,
          "metadata": {},
          "output_type": "execute_result"
        }
      ],
      "source": [
        "X.shape, y.shape"
      ]
    },
    {
      "cell_type": "code",
      "execution_count": 54,
      "metadata": {
        "id": "Q1joEUEV7MMF"
      },
      "outputs": [],
      "source": [
        "d={}\n",
        "y_=[]\n",
        "count=0\n",
        "for i in y:\n",
        "  if i not in d:\n",
        "    d[i]=count\n",
        "    count+=1\n",
        "  y_.append(d[i])\n"
      ]
    },
    {
      "cell_type": "code",
      "execution_count": 55,
      "metadata": {
        "colab": {
          "base_uri": "https://localhost:8080/"
        },
        "id": "9MjFpe-WEw2O",
        "outputId": "640ef730-3b4a-4437-ffc5-542dfbe3459e"
      },
      "outputs": [
        {
          "data": {
            "text/plain": [
              "{0.0: 0, 0.75: 1, 0.25: 2, 1.0: 3, 0.5: 4}"
            ]
          },
          "execution_count": 55,
          "metadata": {},
          "output_type": "execute_result"
        }
      ],
      "source": [
        "d"
      ]
    },
    {
      "cell_type": "code",
      "execution_count": 56,
      "metadata": {
        "id": "5uw0hu7G7mlf"
      },
      "outputs": [],
      "source": [
        "y_ = np.array(y_)"
      ]
    },
    {
      "cell_type": "code",
      "execution_count": 10,
      "metadata": {
        "colab": {
          "base_uri": "https://localhost:8080/"
        },
        "id": "OtzsBkKM7qSB",
        "outputId": "baf9a65c-2657-49c0-8349-ba039c0fedb6"
      },
      "outputs": [],
      "source": [
        "train_size = int(len(X_data)*0.8)\n",
        "test_size = len(X_data) - train_size\n"
      ]
    },
    {
      "cell_type": "code",
      "execution_count": 58,
      "metadata": {
        "colab": {
          "base_uri": "https://localhost:8080/"
        },
        "id": "e_4kcoCY3zsi",
        "outputId": "6143a3e0-798d-4eaa-d155-fdc8503fc6be"
      },
      "outputs": [
        {
          "name": "stdout",
          "output_type": "stream",
          "text": [
            "Epoch 1/100\n",
            "1997/1997 [==============================] - 71s 34ms/step - loss: 1.3932 - accuracy: 0.3311 - val_loss: 1.3216 - val_accuracy: 0.4020\n",
            "Epoch 2/100\n",
            "1997/1997 [==============================] - 66s 33ms/step - loss: 1.3081 - accuracy: 0.4203 - val_loss: 1.2692 - val_accuracy: 0.4493\n",
            "Epoch 3/100\n",
            "1997/1997 [==============================] - 65s 33ms/step - loss: 1.2823 - accuracy: 0.4394 - val_loss: 1.2524 - val_accuracy: 0.4612\n",
            "Epoch 4/100\n",
            "1997/1997 [==============================] - 66s 33ms/step - loss: 1.2668 - accuracy: 0.4539 - val_loss: 1.2372 - val_accuracy: 0.4897\n",
            "Epoch 5/100\n",
            "1997/1997 [==============================] - 64s 32ms/step - loss: 1.2533 - accuracy: 0.4615 - val_loss: 1.2302 - val_accuracy: 0.4897\n",
            "Epoch 6/100\n",
            "1997/1997 [==============================] - 64s 32ms/step - loss: 1.2451 - accuracy: 0.4633 - val_loss: 1.2140 - val_accuracy: 0.5057\n",
            "Epoch 7/100\n",
            "1997/1997 [==============================] - 64s 32ms/step - loss: 1.2400 - accuracy: 0.4666 - val_loss: 1.2118 - val_accuracy: 0.5056\n",
            "Epoch 8/100\n",
            "1997/1997 [==============================] - 64s 32ms/step - loss: 1.2368 - accuracy: 0.4665 - val_loss: 1.2046 - val_accuracy: 0.5010\n",
            "Epoch 9/100\n",
            "1997/1997 [==============================] - 64s 32ms/step - loss: 1.2330 - accuracy: 0.4683 - val_loss: 1.2208 - val_accuracy: 0.4983\n",
            "Epoch 10/100\n",
            "1997/1997 [==============================] - 64s 32ms/step - loss: 1.2318 - accuracy: 0.4681 - val_loss: 1.2160 - val_accuracy: 0.4946\n",
            "Epoch 11/100\n",
            "1997/1997 [==============================] - 64s 32ms/step - loss: 1.2297 - accuracy: 0.4671 - val_loss: 1.2018 - val_accuracy: 0.5063\n",
            "Epoch 12/100\n",
            "1997/1997 [==============================] - 64s 32ms/step - loss: 1.2272 - accuracy: 0.4676 - val_loss: 1.1970 - val_accuracy: 0.5059\n",
            "Epoch 13/100\n",
            "1997/1997 [==============================] - 63s 32ms/step - loss: 1.2264 - accuracy: 0.4690 - val_loss: 1.2261 - val_accuracy: 0.4829\n",
            "Epoch 14/100\n",
            "1997/1997 [==============================] - 63s 32ms/step - loss: 1.2241 - accuracy: 0.4706 - val_loss: 1.1949 - val_accuracy: 0.5055\n",
            "Epoch 15/100\n",
            "1997/1997 [==============================] - 62s 31ms/step - loss: 1.2221 - accuracy: 0.4719 - val_loss: 1.2112 - val_accuracy: 0.4893\n",
            "Epoch 16/100\n",
            "1997/1997 [==============================] - 70s 35ms/step - loss: 1.2157 - accuracy: 0.4752 - val_loss: 1.1985 - val_accuracy: 0.5043\n",
            "Epoch 17/100\n",
            "1997/1997 [==============================] - 82s 41ms/step - loss: 1.2110 - accuracy: 0.4766 - val_loss: 1.2128 - val_accuracy: 0.4913\n",
            "Epoch 18/100\n",
            "1997/1997 [==============================] - 82s 41ms/step - loss: 1.2032 - accuracy: 0.4818 - val_loss: 1.1791 - val_accuracy: 0.5022\n",
            "Epoch 19/100\n",
            "1997/1997 [==============================] - 85s 43ms/step - loss: 1.1944 - accuracy: 0.4885 - val_loss: 1.1828 - val_accuracy: 0.5012\n",
            "Epoch 20/100\n",
            "1997/1997 [==============================] - 85s 43ms/step - loss: 1.1848 - accuracy: 0.4925 - val_loss: 1.1811 - val_accuracy: 0.5033\n",
            "Epoch 21/100\n",
            "1997/1997 [==============================] - 86s 43ms/step - loss: 1.1813 - accuracy: 0.4961 - val_loss: 1.1949 - val_accuracy: 0.5003\n",
            "Epoch 22/100\n",
            "1997/1997 [==============================] - 85s 43ms/step - loss: 1.1790 - accuracy: 0.4977 - val_loss: 1.1751 - val_accuracy: 0.5113\n",
            "Epoch 23/100\n",
            "1997/1997 [==============================] - 87s 43ms/step - loss: 1.1720 - accuracy: 0.5023 - val_loss: 1.1912 - val_accuracy: 0.5013\n",
            "Epoch 24/100\n",
            "1997/1997 [==============================] - 88s 44ms/step - loss: 1.1684 - accuracy: 0.5039 - val_loss: 1.1585 - val_accuracy: 0.5195\n",
            "Epoch 25/100\n",
            "1997/1997 [==============================] - 83s 42ms/step - loss: 1.1627 - accuracy: 0.5091 - val_loss: 1.1470 - val_accuracy: 0.5340\n",
            "Epoch 26/100\n",
            "1997/1997 [==============================] - 83s 42ms/step - loss: 1.1564 - accuracy: 0.5109 - val_loss: 1.1777 - val_accuracy: 0.5198\n",
            "Epoch 27/100\n",
            "1997/1997 [==============================] - 83s 41ms/step - loss: 1.1518 - accuracy: 0.5158 - val_loss: 1.1748 - val_accuracy: 0.5152\n",
            "Epoch 28/100\n",
            "1997/1997 [==============================] - 83s 42ms/step - loss: 1.1477 - accuracy: 0.5163 - val_loss: 1.1852 - val_accuracy: 0.4988\n",
            "Epoch 29/100\n",
            "1997/1997 [==============================] - 83s 42ms/step - loss: 1.1421 - accuracy: 0.5198 - val_loss: 1.1847 - val_accuracy: 0.5008\n",
            "Epoch 30/100\n",
            "1997/1997 [==============================] - 83s 42ms/step - loss: 1.1411 - accuracy: 0.5212 - val_loss: 1.1300 - val_accuracy: 0.5467\n",
            "Epoch 31/100\n",
            "1997/1997 [==============================] - 83s 42ms/step - loss: 1.1359 - accuracy: 0.5223 - val_loss: 1.1590 - val_accuracy: 0.5224\n",
            "Epoch 32/100\n",
            "1997/1997 [==============================] - 83s 41ms/step - loss: 1.1341 - accuracy: 0.5227 - val_loss: 1.1446 - val_accuracy: 0.5336\n",
            "Epoch 33/100\n",
            "1997/1997 [==============================] - 82s 41ms/step - loss: 1.1310 - accuracy: 0.5240 - val_loss: 1.1489 - val_accuracy: 0.5224\n",
            "Epoch 34/100\n",
            "1997/1997 [==============================] - 84s 42ms/step - loss: 1.1316 - accuracy: 0.5234 - val_loss: 1.1693 - val_accuracy: 0.5153\n",
            "Epoch 35/100\n",
            "1997/1997 [==============================] - 83s 42ms/step - loss: 1.1277 - accuracy: 0.5247 - val_loss: 1.1276 - val_accuracy: 0.5336\n",
            "Epoch 36/100\n",
            "1997/1997 [==============================] - 83s 41ms/step - loss: 1.1254 - accuracy: 0.5260 - val_loss: 1.1372 - val_accuracy: 0.5303\n",
            "Epoch 37/100\n",
            "1997/1997 [==============================] - 83s 42ms/step - loss: 1.1228 - accuracy: 0.5275 - val_loss: 1.1625 - val_accuracy: 0.5035\n",
            "Epoch 38/100\n",
            "1997/1997 [==============================] - 83s 42ms/step - loss: 1.1244 - accuracy: 0.5266 - val_loss: 1.1620 - val_accuracy: 0.5069\n",
            "Epoch 39/100\n",
            "1997/1997 [==============================] - 82s 41ms/step - loss: 1.1234 - accuracy: 0.5270 - val_loss: 1.1430 - val_accuracy: 0.5230\n",
            "Epoch 40/100\n",
            "1997/1997 [==============================] - 83s 42ms/step - loss: 1.1204 - accuracy: 0.5277 - val_loss: 1.1429 - val_accuracy: 0.5215\n",
            "Epoch 41/100\n",
            "1997/1997 [==============================] - 82s 41ms/step - loss: 1.1212 - accuracy: 0.5295 - val_loss: 1.1176 - val_accuracy: 0.5543\n",
            "Epoch 42/100\n",
            "1997/1997 [==============================] - 83s 42ms/step - loss: 1.1180 - accuracy: 0.5290 - val_loss: 1.1538 - val_accuracy: 0.5002\n",
            "Epoch 43/100\n",
            "1997/1997 [==============================] - 85s 42ms/step - loss: 1.1175 - accuracy: 0.5300 - val_loss: 1.1838 - val_accuracy: 0.4901\n",
            "Epoch 44/100\n",
            "1997/1997 [==============================] - 83s 41ms/step - loss: 1.1158 - accuracy: 0.5315 - val_loss: 1.1738 - val_accuracy: 0.4765\n",
            "Epoch 45/100\n",
            "1997/1997 [==============================] - 84s 42ms/step - loss: 1.1158 - accuracy: 0.5306 - val_loss: 1.1489 - val_accuracy: 0.5222\n",
            "Epoch 46/100\n",
            "1997/1997 [==============================] - 83s 42ms/step - loss: 1.1155 - accuracy: 0.5315 - val_loss: 1.1505 - val_accuracy: 0.5456\n",
            "Epoch 47/100\n",
            "1997/1997 [==============================] - 83s 42ms/step - loss: 1.1160 - accuracy: 0.5316 - val_loss: 1.1177 - val_accuracy: 0.5406\n",
            "Epoch 48/100\n",
            "1997/1997 [==============================] - 85s 43ms/step - loss: 1.1140 - accuracy: 0.5319 - val_loss: 1.1466 - val_accuracy: 0.5179\n",
            "Epoch 49/100\n",
            "1997/1997 [==============================] - 83s 41ms/step - loss: 1.1132 - accuracy: 0.5319 - val_loss: 1.1219 - val_accuracy: 0.5280\n",
            "Epoch 50/100\n",
            "1997/1997 [==============================] - 82s 41ms/step - loss: 1.1140 - accuracy: 0.5313 - val_loss: 1.1164 - val_accuracy: 0.5394\n",
            "Epoch 51/100\n",
            "1997/1997 [==============================] - 83s 42ms/step - loss: 1.1130 - accuracy: 0.5318 - val_loss: 1.1190 - val_accuracy: 0.5460\n",
            "Epoch 52/100\n",
            "1997/1997 [==============================] - 86s 43ms/step - loss: 1.1136 - accuracy: 0.5316 - val_loss: 1.1300 - val_accuracy: 0.5225\n",
            "Epoch 53/100\n",
            "1997/1997 [==============================] - 85s 43ms/step - loss: 1.1116 - accuracy: 0.5334 - val_loss: 1.1289 - val_accuracy: 0.5175\n",
            "Epoch 54/100\n",
            "1997/1997 [==============================] - 85s 42ms/step - loss: 1.1112 - accuracy: 0.5336 - val_loss: 1.1607 - val_accuracy: 0.5045\n",
            "Epoch 55/100\n",
            "1997/1997 [==============================] - 96s 48ms/step - loss: 1.1101 - accuracy: 0.5339 - val_loss: 1.1593 - val_accuracy: 0.5072\n",
            "Epoch 56/100\n",
            "1997/1997 [==============================] - 125s 62ms/step - loss: 1.1102 - accuracy: 0.5334 - val_loss: 1.1280 - val_accuracy: 0.5308\n",
            "Epoch 57/100\n",
            "1997/1997 [==============================] - 125s 62ms/step - loss: 1.1100 - accuracy: 0.5342 - val_loss: 1.1276 - val_accuracy: 0.5275\n",
            "Epoch 58/100\n",
            "1997/1997 [==============================] - 125s 63ms/step - loss: 1.1089 - accuracy: 0.5337 - val_loss: 1.1338 - val_accuracy: 0.5071\n",
            "Epoch 59/100\n",
            "1997/1997 [==============================] - 129s 64ms/step - loss: 1.1091 - accuracy: 0.5343 - val_loss: 1.1082 - val_accuracy: 0.5389\n",
            "Epoch 60/100\n",
            "1997/1997 [==============================] - 135s 68ms/step - loss: 1.1099 - accuracy: 0.5342 - val_loss: 1.1213 - val_accuracy: 0.5382\n",
            "Epoch 61/100\n",
            "1997/1997 [==============================] - 252s 126ms/step - loss: 1.1087 - accuracy: 0.5337 - val_loss: 1.1310 - val_accuracy: 0.5352\n",
            "Epoch 62/100\n",
            "1997/1997 [==============================] - 83s 42ms/step - loss: 1.1090 - accuracy: 0.5338 - val_loss: 1.1209 - val_accuracy: 0.5308\n",
            "Epoch 63/100\n",
            "1997/1997 [==============================] - 99s 50ms/step - loss: 1.1078 - accuracy: 0.5338 - val_loss: 1.1034 - val_accuracy: 0.5476\n",
            "Epoch 64/100\n",
            "1997/1997 [==============================] - 82s 41ms/step - loss: 1.1089 - accuracy: 0.5336 - val_loss: 1.1869 - val_accuracy: 0.4756\n",
            "Epoch 65/100\n",
            "1997/1997 [==============================] - 80s 40ms/step - loss: 1.1090 - accuracy: 0.5350 - val_loss: 1.1895 - val_accuracy: 0.4745\n",
            "Epoch 66/100\n",
            "1997/1997 [==============================] - 83s 42ms/step - loss: 1.1080 - accuracy: 0.5347 - val_loss: 1.1127 - val_accuracy: 0.5432\n",
            "Epoch 67/100\n",
            "1997/1997 [==============================] - 77s 38ms/step - loss: 1.1058 - accuracy: 0.5347 - val_loss: 1.1736 - val_accuracy: 0.4827\n",
            "Epoch 68/100\n",
            "1997/1997 [==============================] - 81s 41ms/step - loss: 1.1070 - accuracy: 0.5352 - val_loss: 1.1053 - val_accuracy: 0.5457\n",
            "Epoch 69/100\n",
            "1997/1997 [==============================] - 76s 38ms/step - loss: 1.1055 - accuracy: 0.5359 - val_loss: 1.1768 - val_accuracy: 0.4832\n",
            "Epoch 70/100\n",
            "1997/1997 [==============================] - 82s 41ms/step - loss: 1.1072 - accuracy: 0.5355 - val_loss: 1.1176 - val_accuracy: 0.5349\n",
            "Epoch 71/100\n",
            "1997/1997 [==============================] - 79s 40ms/step - loss: 1.1082 - accuracy: 0.5349 - val_loss: 1.1376 - val_accuracy: 0.5107\n",
            "Epoch 72/100\n",
            "1997/1997 [==============================] - 85s 43ms/step - loss: 1.1053 - accuracy: 0.5357 - val_loss: 1.1457 - val_accuracy: 0.5119\n",
            "Epoch 73/100\n",
            "1997/1997 [==============================] - 76s 38ms/step - loss: 1.1045 - accuracy: 0.5355 - val_loss: 1.1053 - val_accuracy: 0.5443\n",
            "Epoch 74/100\n",
            "1997/1997 [==============================] - 68s 34ms/step - loss: 1.1058 - accuracy: 0.5359 - val_loss: 1.1391 - val_accuracy: 0.4994\n",
            "Epoch 75/100\n",
            "1997/1997 [==============================] - 67s 34ms/step - loss: 1.1050 - accuracy: 0.5358 - val_loss: 1.1566 - val_accuracy: 0.4990\n",
            "Epoch 76/100\n",
            "1997/1997 [==============================] - 68s 34ms/step - loss: 1.1046 - accuracy: 0.5359 - val_loss: 1.1195 - val_accuracy: 0.5456\n",
            "Epoch 77/100\n",
            "1997/1997 [==============================] - 68s 34ms/step - loss: 1.1027 - accuracy: 0.5364 - val_loss: 1.1105 - val_accuracy: 0.5463\n",
            "Epoch 78/100\n",
            "1997/1997 [==============================] - 73s 37ms/step - loss: 1.1053 - accuracy: 0.5353 - val_loss: 1.1302 - val_accuracy: 0.5300\n",
            "Epoch 79/100\n",
            "1997/1997 [==============================] - 74s 37ms/step - loss: 1.1040 - accuracy: 0.5362 - val_loss: 1.1451 - val_accuracy: 0.5155\n",
            "Epoch 80/100\n",
            "1997/1997 [==============================] - 69s 35ms/step - loss: 1.1043 - accuracy: 0.5361 - val_loss: 1.1301 - val_accuracy: 0.5148\n",
            "Epoch 81/100\n",
            "1997/1997 [==============================] - 74s 37ms/step - loss: 1.1054 - accuracy: 0.5353 - val_loss: 1.1236 - val_accuracy: 0.5248\n",
            "Epoch 82/100\n",
            "1997/1997 [==============================] - 72s 36ms/step - loss: 1.1042 - accuracy: 0.5354 - val_loss: 1.1197 - val_accuracy: 0.5138\n",
            "Epoch 83/100\n",
            "1997/1997 [==============================] - 72s 36ms/step - loss: 1.1035 - accuracy: 0.5359 - val_loss: 1.1468 - val_accuracy: 0.5132\n",
            "Epoch 84/100\n",
            "1997/1997 [==============================] - 72s 36ms/step - loss: 1.1032 - accuracy: 0.5370 - val_loss: 1.1126 - val_accuracy: 0.5342\n",
            "Epoch 85/100\n",
            "1997/1997 [==============================] - 71s 36ms/step - loss: 1.1034 - accuracy: 0.5366 - val_loss: 1.1123 - val_accuracy: 0.5352\n",
            "Epoch 86/100\n",
            "1997/1997 [==============================] - 72s 36ms/step - loss: 1.1014 - accuracy: 0.5384 - val_loss: 1.1648 - val_accuracy: 0.4975\n",
            "Epoch 87/100\n",
            "1997/1997 [==============================] - 76s 38ms/step - loss: 1.1039 - accuracy: 0.5361 - val_loss: 1.1363 - val_accuracy: 0.5218\n",
            "Epoch 88/100\n",
            "1997/1997 [==============================] - 74s 37ms/step - loss: 1.1024 - accuracy: 0.5359 - val_loss: 1.1081 - val_accuracy: 0.5424\n",
            "Epoch 89/100\n",
            "1997/1997 [==============================] - 70s 35ms/step - loss: 1.1034 - accuracy: 0.5360 - val_loss: 1.1433 - val_accuracy: 0.4972\n",
            "Epoch 90/100\n",
            "1997/1997 [==============================] - 69s 35ms/step - loss: 1.1017 - accuracy: 0.5364 - val_loss: 1.1242 - val_accuracy: 0.5311\n",
            "Epoch 91/100\n",
            "1997/1997 [==============================] - 69s 34ms/step - loss: 1.1029 - accuracy: 0.5367 - val_loss: 1.1355 - val_accuracy: 0.5233\n",
            "Epoch 92/100\n",
            "1997/1997 [==============================] - 74s 37ms/step - loss: 1.1021 - accuracy: 0.5366 - val_loss: 1.1044 - val_accuracy: 0.5539\n",
            "Epoch 93/100\n",
            "1997/1997 [==============================] - 74s 37ms/step - loss: 1.1017 - accuracy: 0.5371 - val_loss: 1.1086 - val_accuracy: 0.5601\n",
            "Epoch 94/100\n",
            "1997/1997 [==============================] - 70s 35ms/step - loss: 1.1017 - accuracy: 0.5381 - val_loss: 1.1111 - val_accuracy: 0.5433\n",
            "Epoch 95/100\n",
            "1997/1997 [==============================] - 71s 35ms/step - loss: 1.1008 - accuracy: 0.5382 - val_loss: 1.1115 - val_accuracy: 0.5437\n",
            "Epoch 96/100\n",
            "1997/1997 [==============================] - 69s 34ms/step - loss: 1.1014 - accuracy: 0.5383 - val_loss: 1.1204 - val_accuracy: 0.5290\n",
            "Epoch 97/100\n",
            "1997/1997 [==============================] - 68s 34ms/step - loss: 1.1024 - accuracy: 0.5367 - val_loss: 1.1043 - val_accuracy: 0.5672\n",
            "Epoch 98/100\n",
            "1997/1997 [==============================] - 70s 35ms/step - loss: 1.1010 - accuracy: 0.5371 - val_loss: 1.1131 - val_accuracy: 0.5313\n",
            "Epoch 99/100\n",
            "1997/1997 [==============================] - 71s 36ms/step - loss: 1.0997 - accuracy: 0.5373 - val_loss: 1.1182 - val_accuracy: 0.5381\n",
            "Epoch 100/100\n",
            "1997/1997 [==============================] - 69s 35ms/step - loss: 1.1017 - accuracy: 0.5370 - val_loss: 1.1135 - val_accuracy: 0.5191\n"
          ]
        },
        {
          "data": {
            "image/png": "[encoded data removed]",
            "text/plain": [
              "<Figure size 1200x600 with 2 Axes>"
            ]
          },
          "metadata": {},
          "output_type": "display_data"
        }
      ],
      "source": [
        "import numpy as np\n",
        "import tensorflow as tf\n",
        "from tensorflow.keras.models import Sequential\n",
        "from tensorflow.keras.layers import LSTM, Dense, Dropout\n",
        "from sklearn.model_selection import train_test_split\n",
        "import matplotlib.pyplot as plt\n",
        "\n",
        "\n",
        "# Define constants\n",
        "# n_samples = 1000\n",
        "n_steps = 10\n",
        "n_features = 26\n",
        "n_classes = 5\n",
        "\n",
        "train_size = int(len(X)*0.8)\n",
        "test_size = len(X) - train_size\n",
        "\n",
        "X_train, X_test, y_train, y_test = X[:train_size], X[train_size:], y_[:train_size], y_[train_size:]\n",
        "\n",
        "model = Sequential([\n",
        "    LSTM(100, input_shape=(n_steps, n_features), return_sequences=True),\n",
        "    Dropout(0.2),\n",
        "    LSTM(50),\n",
        "    Dropout(0.2),\n",
        "    Dense(n_classes, activation='softmax')\n",
        "])\n",
        "\n",
        "model.compile(optimizer='adam', loss='sparse_categorical_crossentropy', metrics=['accuracy'])\n",
        "\n",
        "# Train model\n",
        "history = model.fit(X_train, y_train, epochs=100, batch_size=100, validation_data=(X_test, y_test), verbose=1)\n",
        "\n",
        "# Plot training history\n",
        "plt.figure(figsize=(12, 6))\n",
        "\n",
        "# Plot training & validation accuracy values\n",
        "plt.subplot(1, 2, 1)\n",
        "plt.plot(history.history['accuracy'])\n",
        "plt.plot(history.history['val_accuracy'])\n",
        "plt.title('Model accuracy')\n",
        "plt.xlabel('Epoch')\n",
        "plt.ylabel('Accuracy')\n",
        "plt.legend(['Train', 'Test'], loc='upper left')\n",
        "\n",
        "# Plot training & validation loss values\n",
        "plt.subplot(1, 2, 2)\n",
        "plt.plot(history.history['loss'])\n",
        "plt.plot(history.history['val_loss'])\n",
        "plt.title('Model loss')\n",
        "plt.xlabel('Epoch')\n",
        "plt.ylabel('Loss')\n",
        "plt.legend(['Train', 'Test'], loc='upper left')\n",
        "\n",
        "plt.show()\n"
      ]
    },
    {
      "cell_type": "markdown",
      "metadata": {},
      "source": [
        "#TABPFN:"
      ]
    },
    {
      "cell_type": "code",
      "execution_count": 10,
      "metadata": {
        "colab": {
          "base_uri": "https://localhost:8080/"
        },
        "id": "ImZnbiRG6UOs",
        "outputId": "7f1467ac-c88a-4bc7-eccf-0acb52da074b"
      },
      "outputs": [
        {
          "data": {
            "text/plain": [
              "(inf,\n",
              " inf,\n",
              " TransformerModel(\n",
              "   (transformer_encoder): TransformerEncoderDiffInit(\n",
              "     (layers): ModuleList(\n",
              "       (0-11): 12 x TransformerEncoderLayer(\n",
              "         (self_attn): MultiheadAttention(\n",
              "           (out_proj): NonDynamicallyQuantizableLinear(in_features=512, out_features=512, bias=True)\n",
              "         )\n",
              "         (linear1): Linear(in_features=512, out_features=1024, bias=True)\n",
              "         (dropout): Dropout(p=0.0, inplace=False)\n",
              "         (linear2): Linear(in_features=1024, out_features=512, bias=True)\n",
              "         (norm1): LayerNorm((512,), eps=1e-05, elementwise_affine=True)\n",
              "         (norm2): LayerNorm((512,), eps=1e-05, elementwise_affine=True)\n",
              "         (dropout1): Dropout(p=0.0, inplace=False)\n",
              "         (dropout2): Dropout(p=0.0, inplace=False)\n",
              "       )\n",
              "     )\n",
              "   )\n",
              "   (encoder): Linear(in_features=100, out_features=512, bias=True)\n",
              "   (y_encoder): Linear(in_features=1, out_features=512, bias=True)\n",
              "   (decoder): Sequential(\n",
              "     (0): Linear(in_features=512, out_features=1024, bias=True)\n",
              "     (1): GELU(approximate='none')\n",
              "     (2): Linear(in_features=1024, out_features=10, bias=True)\n",
              "   )\n",
              "   (criterion): CrossEntropyLoss()\n",
              " ))"
            ]
          },
          "execution_count": 10,
          "metadata": {},
          "output_type": "execute_result"
        }
      ],
      "source": [
        "classifier = TabPFNClassifier(device='cpu', N_ensemble_configurations=4)\n",
        "classifier.model"
      ]
    },
    {
      "cell_type": "code",
      "execution_count": 11,
      "metadata": {
        "id": "j3sauJHEfXSD"
      },
      "outputs": [],
      "source": [
        "d_new={}\n",
        "y_new=[]\n",
        "count=0\n",
        "for i in y_data:\n",
        "  if i not in d_new:\n",
        "    d_new[i]=count\n",
        "    count+=1\n",
        "  y_new.append(d_new[i])\n"
      ]
    },
    {
      "cell_type": "code",
      "execution_count": 12,
      "metadata": {
        "id": "039YouRnfhgk"
      },
      "outputs": [],
      "source": [
        "y_new = np.array(y_new)"
      ]
    },
    {
      "cell_type": "code",
      "execution_count": 21,
      "metadata": {},
      "outputs": [],
      "source": [
        "train_size = int(len(X_data) -3000)\n",
        "test_size = 3000\n",
        "\n",
        "X_train, X_test, y_train, y_test = X_data[:train_size], X_data[train_size:train_size+3000], y_new[:train_size], y_new[train_size:train_size+3000]"
      ]
    },
    {
      "cell_type": "code",
      "execution_count": 15,
      "metadata": {},
      "outputs": [
        {
          "data": {
            "text/plain": [
              "49920"
            ]
          },
          "execution_count": 15,
          "metadata": {},
          "output_type": "execute_result"
        }
      ],
      "source": [
        "test_size"
      ]
    },
    {
      "cell_type": "code",
      "execution_count": 22,
      "metadata": {
        "id": "QzHphzmOfLAd"
      },
      "outputs": [
        {
          "name": "stdout",
          "output_type": "stream",
          "text": [
            "0\n",
            "1\n",
            "2\n",
            "3\n",
            "4\n",
            "5\n",
            "6\n",
            "7\n",
            "8\n",
            "9\n",
            "10\n",
            "11\n",
            "12\n",
            "13\n",
            "14\n",
            "15\n",
            "16\n",
            "17\n",
            "18\n",
            "19\n",
            "20\n",
            "21\n",
            "22\n",
            "23\n",
            "24\n",
            "25\n",
            "26\n",
            "27\n",
            "28\n",
            "29\n",
            "30\n",
            "31\n",
            "32\n",
            "33\n",
            "34\n",
            "35\n",
            "36\n",
            "37\n",
            "38\n",
            "39\n",
            "40\n",
            "41\n",
            "42\n",
            "43\n",
            "44\n",
            "45\n",
            "46\n",
            "47\n",
            "48\n",
            "49\n",
            "50\n",
            "51\n",
            "52\n",
            "53\n",
            "54\n",
            "55\n",
            "56\n",
            "57\n",
            "58\n",
            "59\n",
            "60\n",
            "61\n",
            "62\n",
            "63\n",
            "64\n",
            "65\n",
            "66\n",
            "67\n",
            "68\n",
            "69\n",
            "70\n",
            "71\n",
            "72\n",
            "73\n",
            "74\n",
            "75\n",
            "76\n",
            "77\n",
            "78\n",
            "79\n",
            "80\n",
            "81\n"
          ]
        }
      ],
      "source": [
        "from sklearn.model_selection import train_test_split\n",
        "from sklearn.metrics import accuracy_score\n",
        "from transformers import TFAutoModelForSequenceClassification, AutoTokenizer\n",
        "\n",
        "\n",
        "\n",
        "n_subsets = len(X_train) // 3000\n",
        "models = []\n",
        "\n",
        "# Train models on subsets\n",
        "for i in range(n_subsets):\n",
        "    print(i)\n",
        "    X_subset, _, y_subset, _ = train_test_split(X_train, y_train, test_size=1 - (3000 / len(X_train)), random_state=i)\n",
        "    classifier = TabPFNClassifier(device='cpu', N_ensemble_configurations=4)\n",
        "    classifier.fit(X_subset, y_subset,overwrite_warning=True)\n",
        "    models.append(classifier)\n",
        "\n",
        "# Make predictions on test data using all models\n",
        "\n"
      ]
    },
    {
      "cell_type": "code",
      "execution_count": 30,
      "metadata": {},
      "outputs": [
        {
          "name": "stdout",
          "output_type": "stream",
          "text": [
            "0\n"
          ]
        },
        {
          "name": "stderr",
          "output_type": "stream",
          "text": [
            "C:\\Users\\Aaditya Gupta\\AppData\\Local\\Packages\\PythonSoftwareFoundation.Python.3.9_qbz5n2kfra8p0\\LocalCache\\local-packages\\Python39\\site-packages\\torch\\utils\\checkpoint.py:429: UserWarning: torch.utils.checkpoint: please pass in use_reentrant=True or use_reentrant=False explicitly. The default value of use_reentrant will be updated to be False in the future. To maintain current behavior, pass use_reentrant=True. It is recommended that you use use_reentrant=False. Refer to docs for more details on the differences between the two variants.\n",
            "  warnings.warn(\n"
          ]
        },
        {
          "name": "stdout",
          "output_type": "stream",
          "text": [
            "1\n"
          ]
        },
        {
          "name": "stderr",
          "output_type": "stream",
          "text": [
            "C:\\Users\\Aaditya Gupta\\AppData\\Local\\Packages\\PythonSoftwareFoundation.Python.3.9_qbz5n2kfra8p0\\LocalCache\\local-packages\\Python39\\site-packages\\torch\\utils\\checkpoint.py:429: UserWarning: torch.utils.checkpoint: please pass in use_reentrant=True or use_reentrant=False explicitly. The default value of use_reentrant will be updated to be False in the future. To maintain current behavior, pass use_reentrant=True. It is recommended that you use use_reentrant=False. Refer to docs for more details on the differences between the two variants.\n",
            "  warnings.warn(\n"
          ]
        },
        {
          "name": "stdout",
          "output_type": "stream",
          "text": [
            "2\n"
          ]
        },
        {
          "name": "stderr",
          "output_type": "stream",
          "text": [
            "C:\\Users\\Aaditya Gupta\\AppData\\Local\\Packages\\PythonSoftwareFoundation.Python.3.9_qbz5n2kfra8p0\\LocalCache\\local-packages\\Python39\\site-packages\\torch\\utils\\checkpoint.py:429: UserWarning: torch.utils.checkpoint: please pass in use_reentrant=True or use_reentrant=False explicitly. The default value of use_reentrant will be updated to be False in the future. To maintain current behavior, pass use_reentrant=True. It is recommended that you use use_reentrant=False. Refer to docs for more details on the differences between the two variants.\n",
            "  warnings.warn(\n"
          ]
        }
      ],
      "source": [
        "predictions_y = []\n",
        "pred_p=[]\n",
        "count=0\n",
        "for model in models:\n",
        "    print(count)\n",
        "    y_eval, p_eval = model.predict(X_test, return_winning_probability=True)\n",
        "    predictions_y.append(y_eval)\n",
        "    pred_p.append(p_eval)\n",
        "    count+=1\n",
        "# Aggregate predictions (e.g., majority voting for classification)\n",
        "final_predictions = np.mean(predictions_y, axis=0)\n",
        "\n",
        "# Evaluate the final predictions\n",
        "accuracy = accuracy_score(y_test, final_predictions)\n",
        "print(\"Accuracy:\", accuracy)"
      ]
    },
    {
      "cell_type": "code",
      "execution_count": null,
      "metadata": {},
      "outputs": [],
      "source": [
        "majority_votes = np.apply_along_axis(lambda x: np.argmax(np.bincount(x)), axis=0, arr=predictions_y)\n",
        "\n"
      ]
    },
    {
      "cell_type": "code",
      "execution_count": 28,
      "metadata": {},
      "outputs": [
        {
          "data": {
            "text/plain": [
              "array([2, 0, 0, ..., 3, 3, 3], dtype=int64)"
            ]
          },
          "execution_count": 28,
          "metadata": {},
          "output_type": "execute_result"
        }
      ],
      "source": [
        "majority_votes"
      ]
    },
    {
      "cell_type": "code",
      "execution_count": null,
      "metadata": {},
      "outputs": [
        {
          "name": "stdout",
          "output_type": "stream",
          "text": [
            "Accuracy: 0.6123333333333333\n"
          ]
        }
      ],
      "source": [
        "accuracy = accuracy_score(y_test, majority_votes)\n",
        "print(\"Accuracy:\", accuracy)"
      ]
    },
    {
      "cell_type": "code",
      "execution_count": 25,
      "metadata": {},
      "outputs": [
        {
          "data": {
            "text/plain": [
              "array([1.86666667, 0.        , 0.6       , ..., 2.93333333, 2.53333333,\n",
              "       2.4       ])"
            ]
          },
          "execution_count": 25,
          "metadata": {},
          "output_type": "execute_result"
        }
      ],
      "source": [
        "final_predictions"
      ]
    },
    {
      "cell_type": "code",
      "execution_count": 22,
      "metadata": {
        "colab": {
          "base_uri": "https://localhost:8080/"
        },
        "id": "O821hZfRxaUK",
        "outputId": "2c1e3ffe-0e95-4a6d-d22e-7ad12e90282d"
      },
      "outputs": [
        {
          "name": "stdout",
          "output_type": "stream",
          "text": [
            "Fitting\n",
            "Predicting\n"
          ]
        },
        {
          "name": "stderr",
          "output_type": "stream",
          "text": [
            "C:\\Users\\Aaditya Gupta\\AppData\\Local\\Packages\\PythonSoftwareFoundation.Python.3.9_qbz5n2kfra8p0\\LocalCache\\local-packages\\Python39\\site-packages\\torch\\utils\\checkpoint.py:429: UserWarning: torch.utils.checkpoint: please pass in use_reentrant=True or use_reentrant=False explicitly. The default value of use_reentrant will be updated to be False in the future. To maintain current behavior, pass use_reentrant=True. It is recommended that you use use_reentrant=False. Refer to docs for more details on the differences between the two variants.\n",
            "  warnings.warn(\n"
          ]
        }
      ],
      "source": [
        "start = time.time()\n",
        "print(\"Fitting\")\n",
        "classifier.fit(X_train, y_train,overwrite_warning=True)\n",
        "print(\"Predicting\")\n",
        "y_eval, p_eval = classifier.predict(X_test, return_winning_probability=True)\n",
        "prediction_time = time.time() - start"
      ]
    },
    {
      "cell_type": "code",
      "execution_count": null,
      "metadata": {
        "id": "NKm5D3Xhj2Ik"
      },
      "outputs": [],
      "source": []
    }
  ],
  "metadata": {
    "colab": {
      "provenance": []
    },
    "kernelspec": {
      "display_name": "Python 3",
      "name": "python3"
    },
    "language_info": {
      "codemirror_mode": {
        "name": "ipython",
        "version": 3
      },
      "file_extension": ".py",
      "mimetype": "text/x-python",
      "name": "python",
      "nbconvert_exporter": "python",
      "pygments_lexer": "ipython3",
      "version": "3.9.13"
    }
  },
  "nbformat": 4,
  "nbformat_minor": 0
}
