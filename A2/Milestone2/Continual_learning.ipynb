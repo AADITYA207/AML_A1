{
  "nbformat": 4,
  "nbformat_minor": 0,
  "metadata": {
    "colab": {
      "provenance": []
    },
    "kernelspec": {
      "name": "python3",
      "display_name": "Python 3"
    },
    "language_info": {
      "name": "python"
    }
  },
  "cells": [
    {
      "cell_type": "code",
      "execution_count": null,
      "metadata": {
        "colab": {
          "base_uri": "https://localhost:8080/"
        },
        "id": "3h8UYSuaVg0f",
        "outputId": "a385d134-f342-497a-eef0-56e71af64f08"
      },
      "outputs": [
        {
          "output_type": "stream",
          "name": "stdout",
          "text": [
            "Mounted at /content/drive\n"
          ]
        }
      ],
      "source": [
        "from google.colab import drive\n",
        "drive.mount('/content/drive')"
      ]
    },
    {
      "cell_type": "code",
      "source": [
        "import tensorflow as tf\n",
        "\n",
        "# Check if TensorFlow can detect a GPU\n",
        "gpu_device_name = tf.test.gpu_device_name()\n",
        "\n",
        "if gpu_device_name:\n",
        "    print('GPU device found:', gpu_device_name)\n",
        "else:\n",
        "    print(\"No GPU available. Using CPU instead.\")"
      ],
      "metadata": {
        "colab": {
          "base_uri": "https://localhost:8080/"
        },
        "id": "SxYIfafpVqn1",
        "outputId": "495da200-613a-49d0-eacf-1572956fa80e"
      },
      "execution_count": null,
      "outputs": [
        {
          "output_type": "stream",
          "name": "stdout",
          "text": [
            "No GPU available. Using CPU instead.\n"
          ]
        }
      ]
    },
    {
      "cell_type": "code",
      "source": [
        "import pandas as pd\n",
        "import numpy as np\n",
        "import matplotlib.pyplot as plt\n",
        "from sklearn.linear_model import SGDClassifier\n",
        "from sklearn.preprocessing import StandardScaler\n",
        "from sklearn.preprocessing import LabelEncoder\n",
        "from sklearn.model_selection import train_test_split\n",
        "from sklearn.metrics import accuracy_score, roc_auc_score"
      ],
      "metadata": {
        "id": "BqQgy-txVqk_"
      },
      "execution_count": null,
      "outputs": []
    },
    {
      "cell_type": "code",
      "source": [
        "import warnings\n",
        "warnings.filterwarnings(\"ignore\")"
      ],
      "metadata": {
        "id": "dSfL9ZEJz3M3"
      },
      "execution_count": null,
      "outputs": []
    },
    {
      "cell_type": "markdown",
      "source": [
        "## Dataset loading, analysis and preprocessing"
      ],
      "metadata": {
        "id": "94xWTpqvVyY3"
      }
    },
    {
      "cell_type": "code",
      "source": [
        "df1 = pd.read_csv(\"/content/drive/MyDrive/AML/A2/df_train_shuffled.csv\")\n",
        "df2 = pd.read_csv(\"/content/drive/MyDrive/AML/A2/df_val.csv\")\n",
        "df3 = pd.read_csv(\"/content/drive/MyDrive/AML/A2/df_val_test.csv\")"
      ],
      "metadata": {
        "id": "SCDfcUhTVqim"
      },
      "execution_count": null,
      "outputs": []
    },
    {
      "cell_type": "code",
      "source": [
        "df1.shape, df2.shape, df3.shape"
      ],
      "metadata": {
        "colab": {
          "base_uri": "https://localhost:8080/"
        },
        "id": "_SV02c4RxQzp",
        "outputId": "471de4bb-94df-48e6-8249-6170f37ea817"
      },
      "execution_count": null,
      "outputs": [
        {
          "output_type": "execute_result",
          "data": {
            "text/plain": [
              "((175127, 28), (52212, 28), (56802, 28))"
            ]
          },
          "metadata": {},
          "execution_count": 6
        }
      ]
    },
    {
      "cell_type": "code",
      "source": [
        "df1.isnull().sum()"
      ],
      "metadata": {
        "colab": {
          "base_uri": "https://localhost:8080/"
        },
        "id": "V_aL3v-LyowJ",
        "outputId": "d4a2a985-41f9-4913-d0f5-201a9f57cb73"
      },
      "execution_count": null,
      "outputs": [
        {
          "output_type": "execute_result",
          "data": {
            "text/plain": [
              "Open_n_val                        0\n",
              "High_n_val                        0\n",
              "Low_n_val                         0\n",
              "Close_n_val                       0\n",
              "Volume_n_val                      0\n",
              "SMA_10_val                        0\n",
              "SMA_20_val                        0\n",
              "CMO_14_val                        0\n",
              "High_n-Low_n_val                  0\n",
              "Open_n-Close_n_val                0\n",
              "SMA_20-SMA_10_val                 0\n",
              "Close_n_slope_3_val               0\n",
              "Close_n_slope_5_val               0\n",
              "Close_n_slope_10_val              0\n",
              "Open_n_changelen_val              0\n",
              "High_n_changelen_val              0\n",
              "Low_n_changelen_val               0\n",
              "Close_n_changelen_val             0\n",
              "High_n-Low_n_changelen_val        0\n",
              "Open_n-Close_n_changelen_val      0\n",
              "SMA_20-SMA_10_changelen_val       0\n",
              "Close_n_slope_3_changelen_val     0\n",
              "Close_n_slope_5_changelen_val     0\n",
              "Close_n_slope_10_changelen_val    0\n",
              "row_num                           0\n",
              "era                               0\n",
              "target_10_val                     0\n",
              "target_5_val                      0\n",
              "dtype: int64"
            ]
          },
          "metadata": {},
          "execution_count": 7
        }
      ]
    },
    {
      "cell_type": "code",
      "source": [
        "df1.dtypes"
      ],
      "metadata": {
        "colab": {
          "base_uri": "https://localhost:8080/"
        },
        "id": "Gg5vvNGlxqyz",
        "outputId": "8b94d991-5cb6-4dbd-93d1-720ede27f039"
      },
      "execution_count": null,
      "outputs": [
        {
          "output_type": "execute_result",
          "data": {
            "text/plain": [
              "Open_n_val                        float64\n",
              "High_n_val                        float64\n",
              "Low_n_val                         float64\n",
              "Close_n_val                       float64\n",
              "Volume_n_val                      float64\n",
              "SMA_10_val                        float64\n",
              "SMA_20_val                        float64\n",
              "CMO_14_val                        float64\n",
              "High_n-Low_n_val                  float64\n",
              "Open_n-Close_n_val                float64\n",
              "SMA_20-SMA_10_val                 float64\n",
              "Close_n_slope_3_val               float64\n",
              "Close_n_slope_5_val               float64\n",
              "Close_n_slope_10_val              float64\n",
              "Open_n_changelen_val              float64\n",
              "High_n_changelen_val              float64\n",
              "Low_n_changelen_val               float64\n",
              "Close_n_changelen_val             float64\n",
              "High_n-Low_n_changelen_val        float64\n",
              "Open_n-Close_n_changelen_val      float64\n",
              "SMA_20-SMA_10_changelen_val       float64\n",
              "Close_n_slope_3_changelen_val     float64\n",
              "Close_n_slope_5_changelen_val     float64\n",
              "Close_n_slope_10_changelen_val    float64\n",
              "row_num                             int64\n",
              "era                                 int64\n",
              "target_10_val                     float64\n",
              "target_5_val                      float64\n",
              "dtype: object"
            ]
          },
          "metadata": {},
          "execution_count": 8
        }
      ]
    },
    {
      "cell_type": "code",
      "source": [
        "# Define the mapping of values to indices\n",
        "value_to_index = {0.00: 0, 0.25: 1, 0.5: 2, 0.75: 3, 1.00: 4}\n",
        "\n",
        "# Replace values with corresponding indices\n",
        "df1[\"target_10_val\"] = df1[\"target_10_val\"].replace(value_to_index).astype(int)\n",
        "df2[\"target_10_val\"] = df2[\"target_10_val\"].replace(value_to_index).astype(int)\n",
        "df3[\"target_10_val\"] = df3[\"target_10_val\"].replace(value_to_index).astype(int)"
      ],
      "metadata": {
        "id": "dPQoBJC-3jpi"
      },
      "execution_count": null,
      "outputs": []
    },
    {
      "cell_type": "code",
      "source": [
        "df1[\"target_10_val\"].value_counts()"
      ],
      "metadata": {
        "colab": {
          "base_uri": "https://localhost:8080/"
        },
        "id": "h9Y4laeo1-jq",
        "outputId": "e6affb76-8c82-42ac-fff0-8e27959d6bf5"
      },
      "execution_count": null,
      "outputs": [
        {
          "output_type": "execute_result",
          "data": {
            "text/plain": [
              "target_10_val\n",
              "2    37405\n",
              "1    35965\n",
              "0    35965\n",
              "4    32901\n",
              "3    32891\n",
              "Name: count, dtype: int64"
            ]
          },
          "metadata": {},
          "execution_count": 10
        }
      ]
    },
    {
      "cell_type": "code",
      "source": [
        "# Initialize scaler for feature scaling\n",
        "scaler = StandardScaler()\n",
        "\n",
        "# Train the model on cf_train.csv\n",
        "X_train = df1.drop(columns=[\"era\", \"target_5_val\", \"target_10_val\"])\n",
        "X_val = df2.drop(columns=[\"era\", \"target_5_val\", \"target_10_val\"])\n",
        "X_test = df3.drop(columns=[\"era\", \"target_5_val\", \"target_10_val\"])\n",
        "\n",
        "y_train = df1[\"target_10_val\"]\n",
        "y_val = df2[\"target_10_val\"]\n",
        "y_test = df3[\"target_10_val\"]\n",
        "\n",
        "X_train_scaled = scaler.fit_transform(X_train)\n",
        "X_val_scaled = scaler.fit_transform(X_val)\n",
        "X_test_scaled = scaler.fit_transform(X_test)"
      ],
      "metadata": {
        "id": "Huyf_CHw1Xdp"
      },
      "execution_count": null,
      "outputs": []
    },
    {
      "cell_type": "markdown",
      "source": [
        "# Online Learning"
      ],
      "metadata": {
        "id": "I9GYI35wWM-P"
      }
    },
    {
      "cell_type": "markdown",
      "source": [
        "## Linear Model"
      ],
      "metadata": {
        "id": "rWPqI1f71uxl"
      }
    },
    {
      "cell_type": "code",
      "source": [
        "# Initialize the SGDClassifier\n",
        "classifier = SGDClassifier(loss='log', alpha=0.01, max_iter=1000, random_state=42)\n",
        "classifier.fit(X_train_scaled, y_train)"
      ],
      "metadata": {
        "colab": {
          "base_uri": "https://localhost:8080/",
          "height": 75
        },
        "id": "RRZnqr28WGUq",
        "outputId": "3cfa9d1b-0408-41ec-c326-363d2ce84776"
      },
      "execution_count": null,
      "outputs": [
        {
          "output_type": "execute_result",
          "data": {
            "text/plain": [
              "SGDClassifier(alpha=0.01, loss='log', random_state=42)"
            ],
            "text/html": [
              "<style>#sk-container-id-1 {color: black;background-color: white;}#sk-container-id-1 pre{padding: 0;}#sk-container-id-1 div.sk-toggleable {background-color: white;}#sk-container-id-1 label.sk-toggleable__label {cursor: pointer;display: block;width: 100%;margin-bottom: 0;padding: 0.3em;box-sizing: border-box;text-align: center;}#sk-container-id-1 label.sk-toggleable__label-arrow:before {content: \"▸\";float: left;margin-right: 0.25em;color: #696969;}#sk-container-id-1 label.sk-toggleable__label-arrow:hover:before {color: black;}#sk-container-id-1 div.sk-estimator:hover label.sk-toggleable__label-arrow:before {color: black;}#sk-container-id-1 div.sk-toggleable__content {max-height: 0;max-width: 0;overflow: hidden;text-align: left;background-color: #f0f8ff;}#sk-container-id-1 div.sk-toggleable__content pre {margin: 0.2em;color: black;border-radius: 0.25em;background-color: #f0f8ff;}#sk-container-id-1 input.sk-toggleable__control:checked~div.sk-toggleable__content {max-height: 200px;max-width: 100%;overflow: auto;}#sk-container-id-1 input.sk-toggleable__control:checked~label.sk-toggleable__label-arrow:before {content: \"▾\";}#sk-container-id-1 div.sk-estimator input.sk-toggleable__control:checked~label.sk-toggleable__label {background-color: #d4ebff;}#sk-container-id-1 div.sk-label input.sk-toggleable__control:checked~label.sk-toggleable__label {background-color: #d4ebff;}#sk-container-id-1 input.sk-hidden--visually {border: 0;clip: rect(1px 1px 1px 1px);clip: rect(1px, 1px, 1px, 1px);height: 1px;margin: -1px;overflow: hidden;padding: 0;position: absolute;width: 1px;}#sk-container-id-1 div.sk-estimator {font-family: monospace;background-color: #f0f8ff;border: 1px dotted black;border-radius: 0.25em;box-sizing: border-box;margin-bottom: 0.5em;}#sk-container-id-1 div.sk-estimator:hover {background-color: #d4ebff;}#sk-container-id-1 div.sk-parallel-item::after {content: \"\";width: 100%;border-bottom: 1px solid gray;flex-grow: 1;}#sk-container-id-1 div.sk-label:hover label.sk-toggleable__label {background-color: #d4ebff;}#sk-container-id-1 div.sk-serial::before {content: \"\";position: absolute;border-left: 1px solid gray;box-sizing: border-box;top: 0;bottom: 0;left: 50%;z-index: 0;}#sk-container-id-1 div.sk-serial {display: flex;flex-direction: column;align-items: center;background-color: white;padding-right: 0.2em;padding-left: 0.2em;position: relative;}#sk-container-id-1 div.sk-item {position: relative;z-index: 1;}#sk-container-id-1 div.sk-parallel {display: flex;align-items: stretch;justify-content: center;background-color: white;position: relative;}#sk-container-id-1 div.sk-item::before, #sk-container-id-1 div.sk-parallel-item::before {content: \"\";position: absolute;border-left: 1px solid gray;box-sizing: border-box;top: 0;bottom: 0;left: 50%;z-index: -1;}#sk-container-id-1 div.sk-parallel-item {display: flex;flex-direction: column;z-index: 1;position: relative;background-color: white;}#sk-container-id-1 div.sk-parallel-item:first-child::after {align-self: flex-end;width: 50%;}#sk-container-id-1 div.sk-parallel-item:last-child::after {align-self: flex-start;width: 50%;}#sk-container-id-1 div.sk-parallel-item:only-child::after {width: 0;}#sk-container-id-1 div.sk-dashed-wrapped {border: 1px dashed gray;margin: 0 0.4em 0.5em 0.4em;box-sizing: border-box;padding-bottom: 0.4em;background-color: white;}#sk-container-id-1 div.sk-label label {font-family: monospace;font-weight: bold;display: inline-block;line-height: 1.2em;}#sk-container-id-1 div.sk-label-container {text-align: center;}#sk-container-id-1 div.sk-container {/* jupyter's `normalize.less` sets `[hidden] { display: none; }` but bootstrap.min.css set `[hidden] { display: none !important; }` so we also need the `!important` here to be able to override the default hidden behavior on the sphinx rendered scikit-learn.org. See: https://github.com/scikit-learn/scikit-learn/issues/21755 */display: inline-block !important;position: relative;}#sk-container-id-1 div.sk-text-repr-fallback {display: none;}</style><div id=\"sk-container-id-1\" class=\"sk-top-container\"><div class=\"sk-text-repr-fallback\"><pre>SGDClassifier(alpha=0.01, loss=&#x27;log&#x27;, random_state=42)</pre><b>In a Jupyter environment, please rerun this cell to show the HTML representation or trust the notebook. <br />On GitHub, the HTML representation is unable to render, please try loading this page with nbviewer.org.</b></div><div class=\"sk-container\" hidden><div class=\"sk-item\"><div class=\"sk-estimator sk-toggleable\"><input class=\"sk-toggleable__control sk-hidden--visually\" id=\"sk-estimator-id-1\" type=\"checkbox\" checked><label for=\"sk-estimator-id-1\" class=\"sk-toggleable__label sk-toggleable__label-arrow\">SGDClassifier</label><div class=\"sk-toggleable__content\"><pre>SGDClassifier(alpha=0.01, loss=&#x27;log&#x27;, random_state=42)</pre></div></div></div></div></div>"
            ]
          },
          "metadata": {},
          "execution_count": 12
        }
      ]
    },
    {
      "cell_type": "code",
      "source": [
        "# Predict on the validation data\n",
        "y_val_pred = classifier.predict(X_test_scaled)\n",
        "\n",
        "# Evaluate the performance of the classifier on the validation set\n",
        "accuracy = accuracy_score(y_test, y_val_pred)\n",
        "print(\"Validation Accuracy:\", accuracy)"
      ],
      "metadata": {
        "colab": {
          "base_uri": "https://localhost:8080/"
        },
        "id": "kQ3upFOMOrCM",
        "outputId": "2638c67d-fed6-4bfc-c6f9-18a19c42e2d4"
      },
      "execution_count": null,
      "outputs": [
        {
          "output_type": "stream",
          "name": "stdout",
          "text": [
            "Validation Accuracy: 0.28287736347311715\n"
          ]
        }
      ]
    },
    {
      "cell_type": "markdown",
      "source": [
        "## Inference and updation of model parameters\n",
        "\n"
      ],
      "metadata": {
        "id": "-yQ2zd5hGG4t"
      }
    },
    {
      "cell_type": "code",
      "source": [
        "final_prediction = pd.DataFrame(columns = ['id', 'prediction', 'row_num', 'round_no'])"
      ],
      "metadata": {
        "id": "nm6xIf8_b_8C"
      },
      "execution_count": null,
      "outputs": []
    },
    {
      "cell_type": "code",
      "source": [
        "round_no = [84,85,86, 92, 93, 94, 95, 96, 97, 98, 99, 102, 103,104,105,106,107,108,109,110,111,112,113, 117, 120, 121, 122, 123, 124, 125, 126, 127, 128, 129, 130, 131, 132, 133, 134, 135, 136, 137, 138, 139, 140, 141, 142, 143, 144 ]"
      ],
      "metadata": {
        "id": "g08OXTZuUWm2"
      },
      "execution_count": null,
      "outputs": []
    },
    {
      "cell_type": "markdown",
      "source": [
        "### Continual Learning Loop"
      ],
      "metadata": {
        "id": "-oqmI7apdswb"
      }
    },
    {
      "cell_type": "code",
      "source": [
        "\n",
        "for round in round_no:\n",
        "\n",
        "    train_data = pd.read_csv(\"/content/drive/MyDrive/AML/A2/live_data_02-Apr-2024/df_live_train_02-Apr-2024_\" + str(round) + \".csv\")\n",
        "    test_data = pd.read_csv(\"/content/drive/MyDrive/AML/A2/live_data_02-Apr-2024/df_live_test_02-Apr-2024_\" + str(round) + \".csv\")\n",
        "\n",
        "    value_to_index = {0.00: 0, 0.25: 1, 0.5: 2, 0.75: 3, 1.00: 4}\n",
        "    train_data[\"target_10_val\"] = train_data[\"target_10_val\"].replace(value_to_index).astype(int)\n",
        "\n",
        "    y_update = train_data['target_10_val']\n",
        "    X_update = train_data.drop(columns=[\"era\", \"id\", \"target_5\", \"target_10\" , \"target_5_val\", \"target_10_val\"])\n",
        "\n",
        "    # Scale features\n",
        "    X_update_scaled = scaler.transform(X_update)\n",
        "\n",
        "    classifier.partial_fit(X_update_scaled, y_update, classes = [0, 1, 2, 3, 4])\n",
        "\n",
        "    X_test = test_data.drop(columns=[\"id\"])\n",
        "    X_test_scaled = scaler.transform(X_test)\n",
        "\n",
        "    # Make prediction for the current test row\n",
        "    y_pred = classifier.predict(X_test_scaled)\n",
        "\n",
        "    for i in range(len(test_data)):\n",
        "      final_prediction.loc[len(final_prediction)] = [ test_data['id'][i],  y_pred[i], test_data['row_num'][i], round]\n",
        "\n"
      ],
      "metadata": {
        "id": "OBkn1TyzWGR2"
      },
      "execution_count": null,
      "outputs": []
    },
    {
      "cell_type": "code",
      "source": [
        "final_prediction.head()"
      ],
      "metadata": {
        "colab": {
          "base_uri": "https://localhost:8080/",
          "height": 206
        },
        "id": "C4pqZ5VmeQEG",
        "outputId": "1dab6a0a-eb88-41ea-8aa5-b4f0ecd849dc"
      },
      "execution_count": null,
      "outputs": [
        {
          "output_type": "execute_result",
          "data": {
            "text/plain": [
              "              id  prediction  row_num  round_no\n",
              "0  GI18OEQPFG.AF           2       84        84\n",
              "1         UNY.AF           2       84        84\n",
              "2  ONWNW-NHGB.AF           2       84        84\n",
              "3         ZPK.AF           2       84        84\n",
              "4        BOPY.AF           2       70        84"
            ],
            "text/html": [
              "\n",
              "  <div id=\"df-691e948a-3442-4338-8bff-35f156a5257b\" class=\"colab-df-container\">\n",
              "    <div>\n",
              "<style scoped>\n",
              "    .dataframe tbody tr th:only-of-type {\n",
              "        vertical-align: middle;\n",
              "    }\n",
              "\n",
              "    .dataframe tbody tr th {\n",
              "        vertical-align: top;\n",
              "    }\n",
              "\n",
              "    .dataframe thead th {\n",
              "        text-align: right;\n",
              "    }\n",
              "</style>\n",
              "<table border=\"1\" class=\"dataframe\">\n",
              "  <thead>\n",
              "    <tr style=\"text-align: right;\">\n",
              "      <th></th>\n",
              "      <th>id</th>\n",
              "      <th>prediction</th>\n",
              "      <th>row_num</th>\n",
              "      <th>round_no</th>\n",
              "    </tr>\n",
              "  </thead>\n",
              "  <tbody>\n",
              "    <tr>\n",
              "      <th>0</th>\n",
              "      <td>GI18OEQPFG.AF</td>\n",
              "      <td>2</td>\n",
              "      <td>84</td>\n",
              "      <td>84</td>\n",
              "    </tr>\n",
              "    <tr>\n",
              "      <th>1</th>\n",
              "      <td>UNY.AF</td>\n",
              "      <td>2</td>\n",
              "      <td>84</td>\n",
              "      <td>84</td>\n",
              "    </tr>\n",
              "    <tr>\n",
              "      <th>2</th>\n",
              "      <td>ONWNW-NHGB.AF</td>\n",
              "      <td>2</td>\n",
              "      <td>84</td>\n",
              "      <td>84</td>\n",
              "    </tr>\n",
              "    <tr>\n",
              "      <th>3</th>\n",
              "      <td>ZPK.AF</td>\n",
              "      <td>2</td>\n",
              "      <td>84</td>\n",
              "      <td>84</td>\n",
              "    </tr>\n",
              "    <tr>\n",
              "      <th>4</th>\n",
              "      <td>BOPY.AF</td>\n",
              "      <td>2</td>\n",
              "      <td>70</td>\n",
              "      <td>84</td>\n",
              "    </tr>\n",
              "  </tbody>\n",
              "</table>\n",
              "</div>\n",
              "    <div class=\"colab-df-buttons\">\n",
              "\n",
              "  <div class=\"colab-df-container\">\n",
              "    <button class=\"colab-df-convert\" onclick=\"convertToInteractive('df-691e948a-3442-4338-8bff-35f156a5257b')\"\n",
              "            title=\"Convert this dataframe to an interactive table.\"\n",
              "            style=\"display:none;\">\n",
              "\n",
              "  <svg xmlns=\"http://www.w3.org/2000/svg\" height=\"24px\" viewBox=\"0 -960 960 960\">\n",
              "    <path d=\"M120-120v-720h720v720H120Zm60-500h600v-160H180v160Zm220 220h160v-160H400v160Zm0 220h160v-160H400v160ZM180-400h160v-160H180v160Zm440 0h160v-160H620v160ZM180-180h160v-160H180v160Zm440 0h160v-160H620v160Z\"/>\n",
              "  </svg>\n",
              "    </button>\n",
              "\n",
              "  <style>\n",
              "    .colab-df-container {\n",
              "      display:flex;\n",
              "      gap: 12px;\n",
              "    }\n",
              "\n",
              "    .colab-df-convert {\n",
              "      background-color: #E8F0FE;\n",
              "      border: none;\n",
              "      border-radius: 50%;\n",
              "      cursor: pointer;\n",
              "      display: none;\n",
              "      fill: #1967D2;\n",
              "      height: 32px;\n",
              "      padding: 0 0 0 0;\n",
              "      width: 32px;\n",
              "    }\n",
              "\n",
              "    .colab-df-convert:hover {\n",
              "      background-color: #E2EBFA;\n",
              "      box-shadow: 0px 1px 2px rgba(60, 64, 67, 0.3), 0px 1px 3px 1px rgba(60, 64, 67, 0.15);\n",
              "      fill: #174EA6;\n",
              "    }\n",
              "\n",
              "    .colab-df-buttons div {\n",
              "      margin-bottom: 4px;\n",
              "    }\n",
              "\n",
              "    [theme=dark] .colab-df-convert {\n",
              "      background-color: #3B4455;\n",
              "      fill: #D2E3FC;\n",
              "    }\n",
              "\n",
              "    [theme=dark] .colab-df-convert:hover {\n",
              "      background-color: #434B5C;\n",
              "      box-shadow: 0px 1px 3px 1px rgba(0, 0, 0, 0.15);\n",
              "      filter: drop-shadow(0px 1px 2px rgba(0, 0, 0, 0.3));\n",
              "      fill: #FFFFFF;\n",
              "    }\n",
              "  </style>\n",
              "\n",
              "    <script>\n",
              "      const buttonEl =\n",
              "        document.querySelector('#df-691e948a-3442-4338-8bff-35f156a5257b button.colab-df-convert');\n",
              "      buttonEl.style.display =\n",
              "        google.colab.kernel.accessAllowed ? 'block' : 'none';\n",
              "\n",
              "      async function convertToInteractive(key) {\n",
              "        const element = document.querySelector('#df-691e948a-3442-4338-8bff-35f156a5257b');\n",
              "        const dataTable =\n",
              "          await google.colab.kernel.invokeFunction('convertToInteractive',\n",
              "                                                    [key], {});\n",
              "        if (!dataTable) return;\n",
              "\n",
              "        const docLinkHtml = 'Like what you see? Visit the ' +\n",
              "          '<a target=\"_blank\" href=https://colab.research.google.com/notebooks/data_table.ipynb>data table notebook</a>'\n",
              "          + ' to learn more about interactive tables.';\n",
              "        element.innerHTML = '';\n",
              "        dataTable['output_type'] = 'display_data';\n",
              "        await google.colab.output.renderOutput(dataTable, element);\n",
              "        const docLink = document.createElement('div');\n",
              "        docLink.innerHTML = docLinkHtml;\n",
              "        element.appendChild(docLink);\n",
              "      }\n",
              "    </script>\n",
              "  </div>\n",
              "\n",
              "\n",
              "<div id=\"df-f2b9f68b-647a-4c12-8076-b257f924c98a\">\n",
              "  <button class=\"colab-df-quickchart\" onclick=\"quickchart('df-f2b9f68b-647a-4c12-8076-b257f924c98a')\"\n",
              "            title=\"Suggest charts\"\n",
              "            style=\"display:none;\">\n",
              "\n",
              "<svg xmlns=\"http://www.w3.org/2000/svg\" height=\"24px\"viewBox=\"0 0 24 24\"\n",
              "     width=\"24px\">\n",
              "    <g>\n",
              "        <path d=\"M19 3H5c-1.1 0-2 .9-2 2v14c0 1.1.9 2 2 2h14c1.1 0 2-.9 2-2V5c0-1.1-.9-2-2-2zM9 17H7v-7h2v7zm4 0h-2V7h2v10zm4 0h-2v-4h2v4z\"/>\n",
              "    </g>\n",
              "</svg>\n",
              "  </button>\n",
              "\n",
              "<style>\n",
              "  .colab-df-quickchart {\n",
              "      --bg-color: #E8F0FE;\n",
              "      --fill-color: #1967D2;\n",
              "      --hover-bg-color: #E2EBFA;\n",
              "      --hover-fill-color: #174EA6;\n",
              "      --disabled-fill-color: #AAA;\n",
              "      --disabled-bg-color: #DDD;\n",
              "  }\n",
              "\n",
              "  [theme=dark] .colab-df-quickchart {\n",
              "      --bg-color: #3B4455;\n",
              "      --fill-color: #D2E3FC;\n",
              "      --hover-bg-color: #434B5C;\n",
              "      --hover-fill-color: #FFFFFF;\n",
              "      --disabled-bg-color: #3B4455;\n",
              "      --disabled-fill-color: #666;\n",
              "  }\n",
              "\n",
              "  .colab-df-quickchart {\n",
              "    background-color: var(--bg-color);\n",
              "    border: none;\n",
              "    border-radius: 50%;\n",
              "    cursor: pointer;\n",
              "    display: none;\n",
              "    fill: var(--fill-color);\n",
              "    height: 32px;\n",
              "    padding: 0;\n",
              "    width: 32px;\n",
              "  }\n",
              "\n",
              "  .colab-df-quickchart:hover {\n",
              "    background-color: var(--hover-bg-color);\n",
              "    box-shadow: 0 1px 2px rgba(60, 64, 67, 0.3), 0 1px 3px 1px rgba(60, 64, 67, 0.15);\n",
              "    fill: var(--button-hover-fill-color);\n",
              "  }\n",
              "\n",
              "  .colab-df-quickchart-complete:disabled,\n",
              "  .colab-df-quickchart-complete:disabled:hover {\n",
              "    background-color: var(--disabled-bg-color);\n",
              "    fill: var(--disabled-fill-color);\n",
              "    box-shadow: none;\n",
              "  }\n",
              "\n",
              "  .colab-df-spinner {\n",
              "    border: 2px solid var(--fill-color);\n",
              "    border-color: transparent;\n",
              "    border-bottom-color: var(--fill-color);\n",
              "    animation:\n",
              "      spin 1s steps(1) infinite;\n",
              "  }\n",
              "\n",
              "  @keyframes spin {\n",
              "    0% {\n",
              "      border-color: transparent;\n",
              "      border-bottom-color: var(--fill-color);\n",
              "      border-left-color: var(--fill-color);\n",
              "    }\n",
              "    20% {\n",
              "      border-color: transparent;\n",
              "      border-left-color: var(--fill-color);\n",
              "      border-top-color: var(--fill-color);\n",
              "    }\n",
              "    30% {\n",
              "      border-color: transparent;\n",
              "      border-left-color: var(--fill-color);\n",
              "      border-top-color: var(--fill-color);\n",
              "      border-right-color: var(--fill-color);\n",
              "    }\n",
              "    40% {\n",
              "      border-color: transparent;\n",
              "      border-right-color: var(--fill-color);\n",
              "      border-top-color: var(--fill-color);\n",
              "    }\n",
              "    60% {\n",
              "      border-color: transparent;\n",
              "      border-right-color: var(--fill-color);\n",
              "    }\n",
              "    80% {\n",
              "      border-color: transparent;\n",
              "      border-right-color: var(--fill-color);\n",
              "      border-bottom-color: var(--fill-color);\n",
              "    }\n",
              "    90% {\n",
              "      border-color: transparent;\n",
              "      border-bottom-color: var(--fill-color);\n",
              "    }\n",
              "  }\n",
              "</style>\n",
              "\n",
              "  <script>\n",
              "    async function quickchart(key) {\n",
              "      const quickchartButtonEl =\n",
              "        document.querySelector('#' + key + ' button');\n",
              "      quickchartButtonEl.disabled = true;  // To prevent multiple clicks.\n",
              "      quickchartButtonEl.classList.add('colab-df-spinner');\n",
              "      try {\n",
              "        const charts = await google.colab.kernel.invokeFunction(\n",
              "            'suggestCharts', [key], {});\n",
              "      } catch (error) {\n",
              "        console.error('Error during call to suggestCharts:', error);\n",
              "      }\n",
              "      quickchartButtonEl.classList.remove('colab-df-spinner');\n",
              "      quickchartButtonEl.classList.add('colab-df-quickchart-complete');\n",
              "    }\n",
              "    (() => {\n",
              "      let quickchartButtonEl =\n",
              "        document.querySelector('#df-f2b9f68b-647a-4c12-8076-b257f924c98a button');\n",
              "      quickchartButtonEl.style.display =\n",
              "        google.colab.kernel.accessAllowed ? 'block' : 'none';\n",
              "    })();\n",
              "  </script>\n",
              "</div>\n",
              "    </div>\n",
              "  </div>\n"
            ],
            "application/vnd.google.colaboratory.intrinsic+json": {
              "type": "dataframe",
              "variable_name": "final_prediction",
              "summary": "{\n  \"name\": \"final_prediction\",\n  \"rows\": 112,\n  \"fields\": [\n    {\n      \"column\": \"id\",\n      \"properties\": {\n        \"dtype\": \"category\",\n        \"num_unique_values\": 9,\n        \"samples\": [\n          \"FOVA.AF\",\n          \"UNY.AF\",\n          \"ERYVNAPR.AF\"\n        ],\n        \"semantic_type\": \"\",\n        \"description\": \"\"\n      }\n    },\n    {\n      \"column\": \"prediction\",\n      \"properties\": {\n        \"dtype\": \"number\",\n        \"std\": 0,\n        \"min\": 0,\n        \"max\": 4,\n        \"num_unique_values\": 5,\n        \"samples\": [\n          4,\n          3,\n          0\n        ],\n        \"semantic_type\": \"\",\n        \"description\": \"\"\n      }\n    },\n    {\n      \"column\": \"row_num\",\n      \"properties\": {\n        \"dtype\": \"number\",\n        \"std\": 18,\n        \"min\": 70,\n        \"max\": 144,\n        \"num_unique_values\": 53,\n        \"samples\": [\n          108,\n          134,\n          140\n        ],\n        \"semantic_type\": \"\",\n        \"description\": \"\"\n      }\n    },\n    {\n      \"column\": \"round_no\",\n      \"properties\": {\n        \"dtype\": \"number\",\n        \"std\": 17,\n        \"min\": 84,\n        \"max\": 144,\n        \"num_unique_values\": 49,\n        \"samples\": [\n          104,\n          141,\n          143\n        ],\n        \"semantic_type\": \"\",\n        \"description\": \"\"\n      }\n    }\n  ]\n}"
            }
          },
          "metadata": {},
          "execution_count": 33
        }
      ]
    },
    {
      "cell_type": "code",
      "source": [
        "final_prediction.shape"
      ],
      "metadata": {
        "colab": {
          "base_uri": "https://localhost:8080/"
        },
        "id": "XRfaSGQ7f37f",
        "outputId": "eeaaf8f5-0156-4443-80fd-50720dab6558"
      },
      "execution_count": null,
      "outputs": [
        {
          "output_type": "execute_result",
          "data": {
            "text/plain": [
              "(112, 4)"
            ]
          },
          "metadata": {},
          "execution_count": 34
        }
      ]
    },
    {
      "cell_type": "code",
      "source": [
        "final_prediction.to_csv(\"/content/drive/MyDrive/AML/A2/predictions_02_04_2024_1.csv\", index=False)"
      ],
      "metadata": {
        "id": "QMUuWvD4d8Mm"
      },
      "execution_count": null,
      "outputs": []
    },
    {
      "cell_type": "markdown",
      "source": [
        "## Neural Network & LSTM"
      ],
      "metadata": {
        "id": "PnuiPHTb3fp2"
      }
    },
    {
      "cell_type": "code",
      "source": [
        "round_no = [i for i in range(76, 137)]"
      ],
      "metadata": {
        "id": "UPrCIBvqYu3O"
      },
      "execution_count": null,
      "outputs": []
    },
    {
      "cell_type": "code",
      "source": [
        "round_no.remove(127)\n",
        "print(round_no)"
      ],
      "metadata": {
        "colab": {
          "base_uri": "https://localhost:8080/"
        },
        "id": "HKB9zt4Pgxlz",
        "outputId": "91388da4-d498-4239-af9a-ec798c3b5d62"
      },
      "execution_count": null,
      "outputs": [
        {
          "output_type": "stream",
          "name": "stdout",
          "text": [
            "[76, 77, 78, 79, 80, 81, 82, 83, 84, 85, 86, 87, 88, 89, 90, 91, 92, 93, 94, 95, 96, 97, 98, 99, 100, 101, 102, 103, 104, 105, 106, 107, 108, 109, 110, 111, 112, 113, 114, 115, 116, 117, 118, 119, 120, 121, 122, 123, 124, 125, 126, 128, 129, 130, 131, 132, 133, 134, 135, 136]\n"
          ]
        }
      ]
    },
    {
      "cell_type": "code",
      "source": [
        "len(round_no)"
      ],
      "metadata": {
        "colab": {
          "base_uri": "https://localhost:8080/"
        },
        "id": "ZOGVNNasWrI5",
        "outputId": "a46bbb73-7a4c-4b71-ce8b-9384a20738dc"
      },
      "execution_count": null,
      "outputs": [
        {
          "output_type": "execute_result",
          "data": {
            "text/plain": [
              "60"
            ]
          },
          "metadata": {},
          "execution_count": 73
        }
      ]
    },
    {
      "cell_type": "code",
      "source": [
        "final_prediction = pd.DataFrame(columns = ['id', 'prediction', 'row_num', 'round_no'])"
      ],
      "metadata": {
        "id": "B2VgLJXOUpF9"
      },
      "execution_count": null,
      "outputs": []
    },
    {
      "cell_type": "code",
      "source": [
        "from tensorflow.keras.models import Sequential\n",
        "from tensorflow.keras.layers import LSTM, Dense"
      ],
      "metadata": {
        "id": "JSdZMytZ3l3T"
      },
      "execution_count": null,
      "outputs": []
    },
    {
      "cell_type": "code",
      "source": [
        "X_train_reshaped = X_train_scaled.reshape(X_train.shape[0], X_train.shape[1], 1)  # Reshape for LSTM input\n",
        "X_val_reshaped = X_val_scaled.reshape(X_val.shape[0], X_val.shape[1], 1)  # Reshape for LSTM input\n",
        "X_test_reshaped = X_test_scaled.reshape(X_test.shape[0], X_test.shape[1], 1)  # Reshape for LSTM input"
      ],
      "metadata": {
        "id": "M7oIayPw4VlO"
      },
      "execution_count": null,
      "outputs": []
    },
    {
      "cell_type": "code",
      "source": [
        "# Define the LSTM model with additional hidden layers\n",
        "model = Sequential([\n",
        "    LSTM(units=64, input_shape=(X_train_reshaped.shape[1], X_train_reshaped.shape[2])),  # LSTM layer\n",
        "    Dense(32, activation='relu'),  # Additional hidden layer with 32 units and ReLU activation\n",
        "    Dense(16, activation='relu'),  # Additional hidden layer with 16 units and ReLU activation\n",
        "    Dense(5, activation='softmax')  # Output layer with softmax activation for multiclass classification\n",
        "])\n",
        "\n",
        "model.compile(optimizer='adam', loss='sparse_categorical_crossentropy', metrics=['accuracy'])"
      ],
      "metadata": {
        "id": "IcZ6G8nc4Vin"
      },
      "execution_count": null,
      "outputs": []
    },
    {
      "cell_type": "code",
      "source": [
        "model.fit(X_train_reshaped, y_train, validation_data=(X_val_reshaped, y_val), epochs=10, batch_size=100)"
      ],
      "metadata": {
        "colab": {
          "base_uri": "https://localhost:8080/"
        },
        "id": "dDtZ1N3r5y91",
        "outputId": "3f6140ef-44ba-4347-edc4-4dda9872cadf"
      },
      "execution_count": null,
      "outputs": [
        {
          "output_type": "stream",
          "name": "stdout",
          "text": [
            "Epoch 1/10\n",
            "1752/1752 [==============================] - 91s 52ms/step - loss: 1.5567 - accuracy: 0.2876 - val_loss: 1.5199 - val_accuracy: 0.3066\n",
            "Epoch 2/10\n",
            "1752/1752 [==============================] - 77s 44ms/step - loss: 1.5473 - accuracy: 0.2916 - val_loss: 1.5300 - val_accuracy: 0.3073\n",
            "Epoch 3/10\n",
            "1752/1752 [==============================] - 66s 37ms/step - loss: 1.5405 - accuracy: 0.2943 - val_loss: 1.5070 - val_accuracy: 0.3254\n",
            "Epoch 4/10\n",
            "1752/1752 [==============================] - 69s 39ms/step - loss: 1.5364 - accuracy: 0.2969 - val_loss: 1.5041 - val_accuracy: 0.3266\n",
            "Epoch 5/10\n",
            "1752/1752 [==============================] - 67s 38ms/step - loss: 1.5343 - accuracy: 0.2979 - val_loss: 1.5088 - val_accuracy: 0.3224\n",
            "Epoch 6/10\n",
            "1752/1752 [==============================] - 62s 36ms/step - loss: 1.5324 - accuracy: 0.2973 - val_loss: 1.5002 - val_accuracy: 0.3291\n",
            "Epoch 7/10\n",
            "1752/1752 [==============================] - 65s 37ms/step - loss: 1.5311 - accuracy: 0.2999 - val_loss: 1.5104 - val_accuracy: 0.3156\n",
            "Epoch 8/10\n",
            "1752/1752 [==============================] - 66s 37ms/step - loss: 1.5297 - accuracy: 0.3006 - val_loss: 1.5189 - val_accuracy: 0.3096\n",
            "Epoch 9/10\n",
            "1752/1752 [==============================] - 68s 39ms/step - loss: 1.5286 - accuracy: 0.3023 - val_loss: 1.5195 - val_accuracy: 0.3129\n",
            "Epoch 10/10\n",
            "1752/1752 [==============================] - 63s 36ms/step - loss: 1.5274 - accuracy: 0.3026 - val_loss: 1.4960 - val_accuracy: 0.3237\n"
          ]
        },
        {
          "output_type": "execute_result",
          "data": {
            "text/plain": [
              "<keras.src.callbacks.History at 0x7cb632bd53c0>"
            ]
          },
          "metadata": {},
          "execution_count": 48
        }
      ]
    },
    {
      "cell_type": "markdown",
      "source": [
        "### Inference and updation on model weights"
      ],
      "metadata": {
        "id": "44wwope4GPBU"
      }
    },
    {
      "cell_type": "code",
      "source": [
        "\n",
        "for round in round_no:\n",
        "\n",
        "    train_data = pd.read_csv(\"/content/drive/MyDrive/AML/A2/live_data_28-Mar-2024/df_live_train_28-Mar-2024_\" + str(round) + \".csv\")\n",
        "    test_data = pd.read_csv(\"/content/drive/MyDrive/AML/A2/live_data_28-Mar-2024/df_live_test_28-Mar-2024_\" + str(round) + \".csv\")\n",
        "\n",
        "    value_to_index = {0.00: 0, 0.25: 1, 0.5: 2, 0.75: 3, 1.00: 4}\n",
        "    train_data[\"target_10_val\"] = train_data[\"target_10_val\"].replace(value_to_index).astype(int)\n",
        "\n",
        "    y_update = train_data['target_10_val']\n",
        "    X_update = train_data.drop(columns=[\"era\", \"id\", \"target_5\", \"target_10\" , \"target_5_val\", \"target_10_val\"])\n",
        "\n",
        "    # Scale features\n",
        "    X_update_scaled = scaler.transform(X_update)\n",
        "    X_update_reshaped = X_update_scaled.reshape(X_update_scaled.shape[0], X_update_scaled.shape[1], 1)\n",
        "\n",
        "    model.fit(X_update, y_update, epochs=1, verbose=0)\n",
        "\n",
        "    X_test = test_data.drop(columns=[\"id\"])\n",
        "    X_test_scaled = scaler.transform(X_test)\n",
        "    X_test_reshaped = X_test_scaled.reshape(X_test_scaled.shape[0], X_test_scaled.shape[1], 1)\n",
        "\n",
        "    y_pred = np.argmax(model.predict(X_test_reshaped), axis = 1)  # Predict class with highest probability\n",
        "\n",
        "    for i in range(len(test_data)):\n",
        "      final_prediction.loc[len(final_prediction)] = [ test_data['id'][i],  y_pred[i], test_data['row_num'][i], round]\n",
        "\n"
      ],
      "metadata": {
        "colab": {
          "base_uri": "https://localhost:8080/"
        },
        "id": "nQ2m3vtP56RC",
        "outputId": "c80dcc7e-b303-4d18-8ae7-1c2fa023618d"
      },
      "execution_count": null,
      "outputs": [
        {
          "output_type": "stream",
          "name": "stdout",
          "text": [
            "1/1 [==============================] - 0s 24ms/step\n",
            "1/1 [==============================] - 0s 23ms/step\n",
            "1/1 [==============================] - 0s 23ms/step\n",
            "1/1 [==============================] - 0s 26ms/step\n",
            "1/1 [==============================] - 0s 93ms/step\n",
            "1/1 [==============================] - 0s 36ms/step\n",
            "1/1 [==============================] - 0s 41ms/step\n",
            "1/1 [==============================] - 0s 226ms/step\n",
            "1/1 [==============================] - 0s 25ms/step\n",
            "1/1 [==============================] - 0s 42ms/step\n",
            "1/1 [==============================] - 0s 42ms/step\n",
            "1/1 [==============================] - 0s 25ms/step\n",
            "1/1 [==============================] - 0s 23ms/step\n",
            "1/1 [==============================] - 0s 23ms/step\n",
            "1/1 [==============================] - 0s 23ms/step\n",
            "1/1 [==============================] - 0s 25ms/step\n",
            "1/1 [==============================] - 0s 34ms/step\n",
            "1/1 [==============================] - 0s 41ms/step\n",
            "1/1 [==============================] - 0s 23ms/step\n",
            "1/1 [==============================] - 0s 22ms/step\n",
            "1/1 [==============================] - 0s 23ms/step\n",
            "1/1 [==============================] - 0s 25ms/step\n",
            "1/1 [==============================] - 0s 23ms/step\n",
            "1/1 [==============================] - 0s 25ms/step\n",
            "1/1 [==============================] - 0s 26ms/step\n",
            "1/1 [==============================] - 0s 23ms/step\n",
            "1/1 [==============================] - 0s 23ms/step\n",
            "1/1 [==============================] - 0s 45ms/step\n",
            "1/1 [==============================] - 0s 32ms/step\n",
            "1/1 [==============================] - 0s 22ms/step\n",
            "1/1 [==============================] - 0s 24ms/step\n",
            "1/1 [==============================] - 0s 22ms/step\n",
            "1/1 [==============================] - 0s 22ms/step\n",
            "1/1 [==============================] - 0s 22ms/step\n",
            "1/1 [==============================] - 0s 23ms/step\n",
            "1/1 [==============================] - 0s 22ms/step\n",
            "1/1 [==============================] - 0s 23ms/step\n",
            "1/1 [==============================] - 0s 29ms/step\n",
            "1/1 [==============================] - 0s 34ms/step\n",
            "1/1 [==============================] - 0s 33ms/step\n",
            "1/1 [==============================] - 0s 22ms/step\n",
            "1/1 [==============================] - 0s 23ms/step\n",
            "1/1 [==============================] - 0s 24ms/step\n",
            "1/1 [==============================] - 0s 24ms/step\n",
            "1/1 [==============================] - 0s 24ms/step\n",
            "1/1 [==============================] - 0s 24ms/step\n",
            "1/1 [==============================] - 0s 23ms/step\n",
            "1/1 [==============================] - 0s 25ms/step\n",
            "1/1 [==============================] - 0s 50ms/step\n",
            "1/1 [==============================] - 0s 34ms/step\n",
            "1/1 [==============================] - 0s 24ms/step\n",
            "1/1 [==============================] - 0s 23ms/step\n",
            "1/1 [==============================] - 0s 23ms/step\n",
            "1/1 [==============================] - 0s 23ms/step\n",
            "1/1 [==============================] - 0s 25ms/step\n",
            "1/1 [==============================] - 0s 22ms/step\n",
            "1/1 [==============================] - 0s 23ms/step\n",
            "1/1 [==============================] - 0s 23ms/step\n",
            "1/1 [==============================] - 0s 23ms/step\n",
            "1/1 [==============================] - 0s 32ms/step\n"
          ]
        }
      ]
    },
    {
      "cell_type": "code",
      "source": [
        "index_to_value = {v: k for k, v in value_to_index.items()}\n",
        "# Replace index values in the DataFrame column with original values\n",
        "final_prediction[\"prediction\"] = final_prediction[\"prediction\"].replace(index_to_value)"
      ],
      "metadata": {
        "id": "4aiqwSzfVIA3"
      },
      "execution_count": null,
      "outputs": []
    },
    {
      "cell_type": "code",
      "source": [
        "final_prediction"
      ],
      "metadata": {
        "colab": {
          "base_uri": "https://localhost:8080/",
          "height": 424
        },
        "id": "YrHJPxIXT1qh",
        "outputId": "5823b5fd-c747-4bc6-c55e-da39bb4ff43a"
      },
      "execution_count": null,
      "outputs": [
        {
          "output_type": "execute_result",
          "data": {
            "text/plain": [
              "                id  prediction  row_num  round_no\n",
              "0          OCPY.AF         0.5       76        76\n",
              "1         ABPVY.AF         0.0       76        76\n",
              "2           QPZ.AF         0.0       53        76\n",
              "3         QNOHE.AF         0.5       76        76\n",
              "4    ONWNWUYQAT.AF         0.5       76        76\n",
              "..             ...         ...      ...       ...\n",
              "203      IVCVAQ.AF         0.0      136       136\n",
              "204         CRY.AF         0.0      136       136\n",
              "205  GI18OEQPFG.AF         0.0      136       136\n",
              "206   VPVPVONAX.AF         0.0      136       136\n",
              "207    ERYVNAPR.AF         0.0      136       136\n",
              "\n",
              "[208 rows x 4 columns]"
            ],
            "text/html": [
              "\n",
              "  <div id=\"df-d7cbd8a5-e26c-455d-990d-498985782e4c\" class=\"colab-df-container\">\n",
              "    <div>\n",
              "<style scoped>\n",
              "    .dataframe tbody tr th:only-of-type {\n",
              "        vertical-align: middle;\n",
              "    }\n",
              "\n",
              "    .dataframe tbody tr th {\n",
              "        vertical-align: top;\n",
              "    }\n",
              "\n",
              "    .dataframe thead th {\n",
              "        text-align: right;\n",
              "    }\n",
              "</style>\n",
              "<table border=\"1\" class=\"dataframe\">\n",
              "  <thead>\n",
              "    <tr style=\"text-align: right;\">\n",
              "      <th></th>\n",
              "      <th>id</th>\n",
              "      <th>prediction</th>\n",
              "      <th>row_num</th>\n",
              "      <th>round_no</th>\n",
              "    </tr>\n",
              "  </thead>\n",
              "  <tbody>\n",
              "    <tr>\n",
              "      <th>0</th>\n",
              "      <td>OCPY.AF</td>\n",
              "      <td>0.5</td>\n",
              "      <td>76</td>\n",
              "      <td>76</td>\n",
              "    </tr>\n",
              "    <tr>\n",
              "      <th>1</th>\n",
              "      <td>ABPVY.AF</td>\n",
              "      <td>0.0</td>\n",
              "      <td>76</td>\n",
              "      <td>76</td>\n",
              "    </tr>\n",
              "    <tr>\n",
              "      <th>2</th>\n",
              "      <td>QPZ.AF</td>\n",
              "      <td>0.0</td>\n",
              "      <td>53</td>\n",
              "      <td>76</td>\n",
              "    </tr>\n",
              "    <tr>\n",
              "      <th>3</th>\n",
              "      <td>QNOHE.AF</td>\n",
              "      <td>0.5</td>\n",
              "      <td>76</td>\n",
              "      <td>76</td>\n",
              "    </tr>\n",
              "    <tr>\n",
              "      <th>4</th>\n",
              "      <td>ONWNWUYQAT.AF</td>\n",
              "      <td>0.5</td>\n",
              "      <td>76</td>\n",
              "      <td>76</td>\n",
              "    </tr>\n",
              "    <tr>\n",
              "      <th>...</th>\n",
              "      <td>...</td>\n",
              "      <td>...</td>\n",
              "      <td>...</td>\n",
              "      <td>...</td>\n",
              "    </tr>\n",
              "    <tr>\n",
              "      <th>203</th>\n",
              "      <td>IVCVAQ.AF</td>\n",
              "      <td>0.0</td>\n",
              "      <td>136</td>\n",
              "      <td>136</td>\n",
              "    </tr>\n",
              "    <tr>\n",
              "      <th>204</th>\n",
              "      <td>CRY.AF</td>\n",
              "      <td>0.0</td>\n",
              "      <td>136</td>\n",
              "      <td>136</td>\n",
              "    </tr>\n",
              "    <tr>\n",
              "      <th>205</th>\n",
              "      <td>GI18OEQPFG.AF</td>\n",
              "      <td>0.0</td>\n",
              "      <td>136</td>\n",
              "      <td>136</td>\n",
              "    </tr>\n",
              "    <tr>\n",
              "      <th>206</th>\n",
              "      <td>VPVPVONAX.AF</td>\n",
              "      <td>0.0</td>\n",
              "      <td>136</td>\n",
              "      <td>136</td>\n",
              "    </tr>\n",
              "    <tr>\n",
              "      <th>207</th>\n",
              "      <td>ERYVNAPR.AF</td>\n",
              "      <td>0.0</td>\n",
              "      <td>136</td>\n",
              "      <td>136</td>\n",
              "    </tr>\n",
              "  </tbody>\n",
              "</table>\n",
              "<p>208 rows × 4 columns</p>\n",
              "</div>\n",
              "    <div class=\"colab-df-buttons\">\n",
              "\n",
              "  <div class=\"colab-df-container\">\n",
              "    <button class=\"colab-df-convert\" onclick=\"convertToInteractive('df-d7cbd8a5-e26c-455d-990d-498985782e4c')\"\n",
              "            title=\"Convert this dataframe to an interactive table.\"\n",
              "            style=\"display:none;\">\n",
              "\n",
              "  <svg xmlns=\"http://www.w3.org/2000/svg\" height=\"24px\" viewBox=\"0 -960 960 960\">\n",
              "    <path d=\"M120-120v-720h720v720H120Zm60-500h600v-160H180v160Zm220 220h160v-160H400v160Zm0 220h160v-160H400v160ZM180-400h160v-160H180v160Zm440 0h160v-160H620v160ZM180-180h160v-160H180v160Zm440 0h160v-160H620v160Z\"/>\n",
              "  </svg>\n",
              "    </button>\n",
              "\n",
              "  <style>\n",
              "    .colab-df-container {\n",
              "      display:flex;\n",
              "      gap: 12px;\n",
              "    }\n",
              "\n",
              "    .colab-df-convert {\n",
              "      background-color: #E8F0FE;\n",
              "      border: none;\n",
              "      border-radius: 50%;\n",
              "      cursor: pointer;\n",
              "      display: none;\n",
              "      fill: #1967D2;\n",
              "      height: 32px;\n",
              "      padding: 0 0 0 0;\n",
              "      width: 32px;\n",
              "    }\n",
              "\n",
              "    .colab-df-convert:hover {\n",
              "      background-color: #E2EBFA;\n",
              "      box-shadow: 0px 1px 2px rgba(60, 64, 67, 0.3), 0px 1px 3px 1px rgba(60, 64, 67, 0.15);\n",
              "      fill: #174EA6;\n",
              "    }\n",
              "\n",
              "    .colab-df-buttons div {\n",
              "      margin-bottom: 4px;\n",
              "    }\n",
              "\n",
              "    [theme=dark] .colab-df-convert {\n",
              "      background-color: #3B4455;\n",
              "      fill: #D2E3FC;\n",
              "    }\n",
              "\n",
              "    [theme=dark] .colab-df-convert:hover {\n",
              "      background-color: #434B5C;\n",
              "      box-shadow: 0px 1px 3px 1px rgba(0, 0, 0, 0.15);\n",
              "      filter: drop-shadow(0px 1px 2px rgba(0, 0, 0, 0.3));\n",
              "      fill: #FFFFFF;\n",
              "    }\n",
              "  </style>\n",
              "\n",
              "    <script>\n",
              "      const buttonEl =\n",
              "        document.querySelector('#df-d7cbd8a5-e26c-455d-990d-498985782e4c button.colab-df-convert');\n",
              "      buttonEl.style.display =\n",
              "        google.colab.kernel.accessAllowed ? 'block' : 'none';\n",
              "\n",
              "      async function convertToInteractive(key) {\n",
              "        const element = document.querySelector('#df-d7cbd8a5-e26c-455d-990d-498985782e4c');\n",
              "        const dataTable =\n",
              "          await google.colab.kernel.invokeFunction('convertToInteractive',\n",
              "                                                    [key], {});\n",
              "        if (!dataTable) return;\n",
              "\n",
              "        const docLinkHtml = 'Like what you see? Visit the ' +\n",
              "          '<a target=\"_blank\" href=https://colab.research.google.com/notebooks/data_table.ipynb>data table notebook</a>'\n",
              "          + ' to learn more about interactive tables.';\n",
              "        element.innerHTML = '';\n",
              "        dataTable['output_type'] = 'display_data';\n",
              "        await google.colab.output.renderOutput(dataTable, element);\n",
              "        const docLink = document.createElement('div');\n",
              "        docLink.innerHTML = docLinkHtml;\n",
              "        element.appendChild(docLink);\n",
              "      }\n",
              "    </script>\n",
              "  </div>\n",
              "\n",
              "\n",
              "<div id=\"df-0ee4fe20-93c9-4f81-a95c-5538432d6914\">\n",
              "  <button class=\"colab-df-quickchart\" onclick=\"quickchart('df-0ee4fe20-93c9-4f81-a95c-5538432d6914')\"\n",
              "            title=\"Suggest charts\"\n",
              "            style=\"display:none;\">\n",
              "\n",
              "<svg xmlns=\"http://www.w3.org/2000/svg\" height=\"24px\"viewBox=\"0 0 24 24\"\n",
              "     width=\"24px\">\n",
              "    <g>\n",
              "        <path d=\"M19 3H5c-1.1 0-2 .9-2 2v14c0 1.1.9 2 2 2h14c1.1 0 2-.9 2-2V5c0-1.1-.9-2-2-2zM9 17H7v-7h2v7zm4 0h-2V7h2v10zm4 0h-2v-4h2v4z\"/>\n",
              "    </g>\n",
              "</svg>\n",
              "  </button>\n",
              "\n",
              "<style>\n",
              "  .colab-df-quickchart {\n",
              "      --bg-color: #E8F0FE;\n",
              "      --fill-color: #1967D2;\n",
              "      --hover-bg-color: #E2EBFA;\n",
              "      --hover-fill-color: #174EA6;\n",
              "      --disabled-fill-color: #AAA;\n",
              "      --disabled-bg-color: #DDD;\n",
              "  }\n",
              "\n",
              "  [theme=dark] .colab-df-quickchart {\n",
              "      --bg-color: #3B4455;\n",
              "      --fill-color: #D2E3FC;\n",
              "      --hover-bg-color: #434B5C;\n",
              "      --hover-fill-color: #FFFFFF;\n",
              "      --disabled-bg-color: #3B4455;\n",
              "      --disabled-fill-color: #666;\n",
              "  }\n",
              "\n",
              "  .colab-df-quickchart {\n",
              "    background-color: var(--bg-color);\n",
              "    border: none;\n",
              "    border-radius: 50%;\n",
              "    cursor: pointer;\n",
              "    display: none;\n",
              "    fill: var(--fill-color);\n",
              "    height: 32px;\n",
              "    padding: 0;\n",
              "    width: 32px;\n",
              "  }\n",
              "\n",
              "  .colab-df-quickchart:hover {\n",
              "    background-color: var(--hover-bg-color);\n",
              "    box-shadow: 0 1px 2px rgba(60, 64, 67, 0.3), 0 1px 3px 1px rgba(60, 64, 67, 0.15);\n",
              "    fill: var(--button-hover-fill-color);\n",
              "  }\n",
              "\n",
              "  .colab-df-quickchart-complete:disabled,\n",
              "  .colab-df-quickchart-complete:disabled:hover {\n",
              "    background-color: var(--disabled-bg-color);\n",
              "    fill: var(--disabled-fill-color);\n",
              "    box-shadow: none;\n",
              "  }\n",
              "\n",
              "  .colab-df-spinner {\n",
              "    border: 2px solid var(--fill-color);\n",
              "    border-color: transparent;\n",
              "    border-bottom-color: var(--fill-color);\n",
              "    animation:\n",
              "      spin 1s steps(1) infinite;\n",
              "  }\n",
              "\n",
              "  @keyframes spin {\n",
              "    0% {\n",
              "      border-color: transparent;\n",
              "      border-bottom-color: var(--fill-color);\n",
              "      border-left-color: var(--fill-color);\n",
              "    }\n",
              "    20% {\n",
              "      border-color: transparent;\n",
              "      border-left-color: var(--fill-color);\n",
              "      border-top-color: var(--fill-color);\n",
              "    }\n",
              "    30% {\n",
              "      border-color: transparent;\n",
              "      border-left-color: var(--fill-color);\n",
              "      border-top-color: var(--fill-color);\n",
              "      border-right-color: var(--fill-color);\n",
              "    }\n",
              "    40% {\n",
              "      border-color: transparent;\n",
              "      border-right-color: var(--fill-color);\n",
              "      border-top-color: var(--fill-color);\n",
              "    }\n",
              "    60% {\n",
              "      border-color: transparent;\n",
              "      border-right-color: var(--fill-color);\n",
              "    }\n",
              "    80% {\n",
              "      border-color: transparent;\n",
              "      border-right-color: var(--fill-color);\n",
              "      border-bottom-color: var(--fill-color);\n",
              "    }\n",
              "    90% {\n",
              "      border-color: transparent;\n",
              "      border-bottom-color: var(--fill-color);\n",
              "    }\n",
              "  }\n",
              "</style>\n",
              "\n",
              "  <script>\n",
              "    async function quickchart(key) {\n",
              "      const quickchartButtonEl =\n",
              "        document.querySelector('#' + key + ' button');\n",
              "      quickchartButtonEl.disabled = true;  // To prevent multiple clicks.\n",
              "      quickchartButtonEl.classList.add('colab-df-spinner');\n",
              "      try {\n",
              "        const charts = await google.colab.kernel.invokeFunction(\n",
              "            'suggestCharts', [key], {});\n",
              "      } catch (error) {\n",
              "        console.error('Error during call to suggestCharts:', error);\n",
              "      }\n",
              "      quickchartButtonEl.classList.remove('colab-df-spinner');\n",
              "      quickchartButtonEl.classList.add('colab-df-quickchart-complete');\n",
              "    }\n",
              "    (() => {\n",
              "      let quickchartButtonEl =\n",
              "        document.querySelector('#df-0ee4fe20-93c9-4f81-a95c-5538432d6914 button');\n",
              "      quickchartButtonEl.style.display =\n",
              "        google.colab.kernel.accessAllowed ? 'block' : 'none';\n",
              "    })();\n",
              "  </script>\n",
              "</div>\n",
              "    </div>\n",
              "  </div>\n"
            ],
            "application/vnd.google.colaboratory.intrinsic+json": {
              "type": "dataframe",
              "variable_name": "final_prediction",
              "summary": "{\n  \"name\": \"final_prediction\",\n  \"rows\": 208,\n  \"fields\": [\n    {\n      \"column\": \"id\",\n      \"properties\": {\n        \"dtype\": \"category\",\n        \"num_unique_values\": 17,\n        \"samples\": [\n          \"OCPY.AF\",\n          \"ABPVY.AF\",\n          \"ARFGYRVAQ.AF\"\n        ],\n        \"semantic_type\": \"\",\n        \"description\": \"\"\n      }\n    },\n    {\n      \"column\": \"prediction\",\n      \"properties\": {\n        \"dtype\": \"number\",\n        \"std\": 0.2893958222505696,\n        \"min\": 0.0,\n        \"max\": 1.0,\n        \"num_unique_values\": 4,\n        \"samples\": [\n          0.0,\n          0.25,\n          0.5\n        ],\n        \"semantic_type\": \"\",\n        \"description\": \"\"\n      }\n    },\n    {\n      \"column\": \"row_num\",\n      \"properties\": {\n        \"dtype\": \"number\",\n        \"std\": 20,\n        \"min\": 53,\n        \"max\": 136,\n        \"num_unique_values\": 67,\n        \"samples\": [\n          105,\n          86,\n          55\n        ],\n        \"semantic_type\": \"\",\n        \"description\": \"\"\n      }\n    },\n    {\n      \"column\": \"round_no\",\n      \"properties\": {\n        \"dtype\": \"number\",\n        \"std\": 18,\n        \"min\": 76,\n        \"max\": 136,\n        \"num_unique_values\": 60,\n        \"samples\": [\n          76,\n          81,\n          112\n        ],\n        \"semantic_type\": \"\",\n        \"description\": \"\"\n      }\n    }\n  ]\n}"
            }
          },
          "metadata": {},
          "execution_count": 78
        }
      ]
    },
    {
      "cell_type": "code",
      "source": [
        "final_prediction.to_csv(\"/content/drive/MyDrive/AML/A2/predictions_28-03-2024.csv\", index=False)"
      ],
      "metadata": {
        "id": "9RjYEJJGT954"
      },
      "execution_count": null,
      "outputs": []
    },
    {
      "cell_type": "markdown",
      "source": [
        "# **Continual ensemble learning for noisy data**"
      ],
      "metadata": {
        "id": "qfcxk3byC4mL"
      }
    },
    {
      "cell_type": "code",
      "source": [
        "from sklearn.ensemble import RandomForestClassifier"
      ],
      "metadata": {
        "id": "rK2C48UNDIBi"
      },
      "execution_count": null,
      "outputs": []
    },
    {
      "cell_type": "code",
      "source": [
        "# Train the ensemble models\n",
        "ensemble_models = []\n",
        "for _ in range(6):  # Train 5 different models for ensemble\n",
        "    model = RandomForestClassifier(n_estimators=100, random_state=42)\n",
        "    model.fit(X_train_scaled, y_train)\n",
        "    ensemble_models.append(model)"
      ],
      "metadata": {
        "id": "NEX8z1TzDIzu"
      },
      "execution_count": null,
      "outputs": []
    },
    {
      "cell_type": "code",
      "source": [
        "from collections import Counter\n",
        "\n",
        "\n",
        "predictions = []\n",
        "for model in ensemble_models:\n",
        "    y_pred = model.predict(X_test_scaled)\n",
        "    predictions.append(y_pred)\n",
        "\n",
        "# Apply majority voting\n",
        "ensemble_predictions = []\n",
        "for i in range(len(X_test)):\n",
        "    # Get predictions for the i-th sample from all models\n",
        "    all_predictions = [pred[i] for pred in predictions]\n",
        "    # Use Counter to count occurrences of each class in predictions\n",
        "    vote_counts = Counter(all_predictions)\n",
        "    # Get the class with the highest count (majority voting)\n",
        "    majority_class = vote_counts.most_common(1)[0][0]\n",
        "    ensemble_predictions.append(majority_class)\n",
        "\n",
        "# Convert the list to numpy array\n",
        "ensemble_predictions = np.array(ensemble_predictions)\n",
        "\n",
        "test_accuracy = accuracy_score(y_test, ensemble_predictions)\n",
        "print(\"Test Accuracy:\", test_accuracy)"
      ],
      "metadata": {
        "colab": {
          "base_uri": "https://localhost:8080/"
        },
        "id": "QViA3gQjW_hq",
        "outputId": "e2450a48-965b-40c6-acae-8c8fbd03c582"
      },
      "execution_count": null,
      "outputs": [
        {
          "output_type": "stream",
          "name": "stdout",
          "text": [
            "Test Accuracy: 0.2921023907608887\n"
          ]
        }
      ]
    },
    {
      "cell_type": "markdown",
      "source": [
        "### Inference and updation of model parameters"
      ],
      "metadata": {
        "id": "wp1X0IjvGT18"
      }
    },
    {
      "cell_type": "code",
      "source": [
        "# Prediction loop\n",
        "predictions = []\n",
        "for i, test_row in test_data[:10000].iterrows():\n",
        "    if i < 10:\n",
        "        predictions.append(3)  # No prediction for the first 10 rows\n",
        "        continue\n",
        "\n",
        "    # Update the model with the ground truth label of current row - 10the row\n",
        "    update_row = test_data.iloc[i - 10]\n",
        "    X_update = scaler.transform(update_row.drop(columns=[\"era\", \"day\", \"target_10_val\"])[X_train.columns].values.reshape(1, -1,))\n",
        "    y_update = update_row[\"target_10_val\"]\n",
        "\n",
        "    for model in ensemble_models:\n",
        "        model.fit(X_update, [y_update])  # Update each model in the ensemble\n",
        "\n",
        "    X_test = scaler.transform(test_row.drop(columns=[\"era\", \"day\", \"target_10_val\"])[X_train.columns].values.reshape(1, -1,))\n",
        "\n",
        "    # Make predictions using ensemble models\n",
        "    y_pred_ensemble = np.concatenate([model.predict(X_test)[:, np.newaxis] for model in ensemble_models], axis=1)\n",
        "    y_pred_ensemble = y_pred_ensemble.astype(int)  # Convert to integers\n",
        "    ensemble_vote = np.argmax(np.bincount(y_pred_ensemble.flatten()))  # Flatten the array before bincount\n",
        "    predictions.append(ensemble_vote)\n"
      ],
      "metadata": {
        "id": "IxP5BdYzDI97"
      },
      "execution_count": null,
      "outputs": []
    },
    {
      "cell_type": "code",
      "source": [
        "true_labels = test_data[\"target_10_val\"]\n",
        "accuracy = accuracy_score(true_labels[10:10000], predictions[10:10000])\n",
        "print(\"Accuracy:\", accuracy)"
      ],
      "metadata": {
        "colab": {
          "base_uri": "https://localhost:8080/"
        },
        "id": "XpvFCQqNDjUc",
        "outputId": "d9448d4a-b032-4494-a2c1-ac520b21dcd8"
      },
      "execution_count": null,
      "outputs": [
        {
          "output_type": "stream",
          "name": "stdout",
          "text": [
            "Accuracy: 0.6843343343343343\n"
          ]
        }
      ]
    }
  ]
}