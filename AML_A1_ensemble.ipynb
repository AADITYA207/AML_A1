{
  "nbformat": 4,
  "nbformat_minor": 0,
  "metadata": {
    "colab": {
      "provenance": [],
      "gpuType": "T4"
    },
    "kernelspec": {
      "name": "python3",
      "display_name": "Python 3"
    },
    "language_info": {
      "name": "python"
    },
    "accelerator": "GPU"
  },
  "cells": [
    {
      "cell_type": "code",
      "source": [
        "import tensorflow as tf\n",
        "\n",
        "# Check if TensorFlow can detect a GPU\n",
        "gpu_device_name = tf.test.gpu_device_name()\n",
        "\n",
        "if gpu_device_name:\n",
        "    print('GPU device found:', gpu_device_name)\n",
        "else:\n",
        "    print(\"No GPU available. Using CPU instead.\")"
      ],
      "metadata": {
        "colab": {
          "base_uri": "https://localhost:8080/"
        },
        "id": "R4dummJunL3P",
        "outputId": "3313f899-117f-4644-b8e0-eeb62b183f36"
      },
      "execution_count": null,
      "outputs": [
        {
          "output_type": "stream",
          "name": "stdout",
          "text": [
            "GPU device found: /device:GPU:0\n"
          ]
        }
      ]
    },
    {
      "cell_type": "code",
      "execution_count": null,
      "metadata": {
        "colab": {
          "base_uri": "https://localhost:8080/"
        },
        "id": "_J9tCulrj4tY",
        "outputId": "2ecc7509-25c8-4ccc-9735-1c5501f64e05"
      },
      "outputs": [
        {
          "output_type": "stream",
          "name": "stdout",
          "text": [
            "Mounted at /content/drive\n"
          ]
        }
      ],
      "source": [
        "from google.colab import drive\n",
        "drive.mount('/content/drive')"
      ]
    },
    {
      "cell_type": "code",
      "source": [
        "import pandas as pd\n",
        "import numpy as np\n",
        "import matplotlib.pyplot as plt\n",
        "from sklearn.model_selection import train_test_split\n",
        "from sklearn.ensemble import RandomForestClassifier\n",
        "from sklearn.metrics import accuracy_score\n",
        "from sklearn.ensemble import GradientBoostingClassifier\n",
        "from sklearn.ensemble import AdaBoostClassifier\n",
        "import tensorflow as tf\n",
        "from tensorflow.keras import layers, models"
      ],
      "metadata": {
        "id": "lQZb302LkOlO"
      },
      "execution_count": null,
      "outputs": []
    },
    {
      "cell_type": "markdown",
      "source": [
        "# zero noise"
      ],
      "metadata": {
        "id": "iQWGDKRdjyGy"
      }
    },
    {
      "cell_type": "code",
      "source": [
        "df = pd.read_csv(\"/content/drive/MyDrive/AML/A1/df_syn_train_0_0_.csv\")"
      ],
      "metadata": {
        "id": "mykBxYFukRBM"
      },
      "execution_count": null,
      "outputs": []
    },
    {
      "cell_type": "code",
      "source": [
        "df = df.sample(frac = 1)"
      ],
      "metadata": {
        "id": "npL-8dIal99w"
      },
      "execution_count": null,
      "outputs": []
    },
    {
      "cell_type": "code",
      "source": [
        "# Separate features and target variable\n",
        "X = df.drop(['era', 'target_10_val', 'target_5_val'], axis=1)\n",
        "y = df['era']"
      ],
      "metadata": {
        "id": "shxgtIz0lZo-"
      },
      "execution_count": null,
      "outputs": []
    },
    {
      "cell_type": "code",
      "source": [
        "X_train, X_test, y_train, y_test = train_test_split(X, y, test_size=0.2, random_state=42)"
      ],
      "metadata": {
        "id": "FzV0tur0laOS"
      },
      "execution_count": null,
      "outputs": []
    },
    {
      "cell_type": "code",
      "source": [
        "# Initialize the Random Forest classifier with desired hyperparameters\n",
        "rf_classifier = RandomForestClassifier(n_estimators=100, random_state=42)\n",
        "\n",
        "# Train the Random Forest classifier on the training data\n",
        "rf_classifier.fit(X_train, y_train)\n",
        "\n",
        "# Predictions on training set\n",
        "train_predictions = rf_classifier.predict(X_train)\n",
        "\n",
        "# Predictions on testing set\n",
        "test_predictions = rf_classifier.predict(X_test)\n",
        "\n",
        "# Calculate and print accuracy on training set\n",
        "train_accuracy = accuracy_score(y_train, train_predictions)\n",
        "print(f'Training Accuracy: {train_accuracy:.2f}')\n",
        "\n",
        "# Calculate and print accuracy on testing set\n",
        "test_accuracy = accuracy_score(y_test, test_predictions)\n",
        "print(f'Testing Accuracy: {test_accuracy:.2f}')\n"
      ],
      "metadata": {
        "colab": {
          "base_uri": "https://localhost:8080/"
        },
        "id": "tL-Ys7NylFxF",
        "outputId": "3cc6c14f-bf9f-4efc-b7c0-b89bea92b734"
      },
      "execution_count": null,
      "outputs": [
        {
          "output_type": "stream",
          "name": "stdout",
          "text": [
            "Training Accuracy: 0.99\n",
            "Testing Accuracy: 0.96\n"
          ]
        }
      ]
    },
    {
      "cell_type": "markdown",
      "source": [
        "# LOW NOISE"
      ],
      "metadata": {
        "id": "SN47yUH-mJgj"
      }
    },
    {
      "cell_type": "code",
      "source": [
        "df2 = pd.read_csv(\"/content/drive/MyDrive/AML/A1/df_synA_train_shuffled.csv\")"
      ],
      "metadata": {
        "id": "NgfQeeLKl3l5"
      },
      "execution_count": null,
      "outputs": []
    },
    {
      "cell_type": "code",
      "source": [
        "df2 = df2.sample(frac = 1)"
      ],
      "metadata": {
        "id": "PMtTxnaDmOK7"
      },
      "execution_count": null,
      "outputs": []
    },
    {
      "cell_type": "code",
      "source": [
        "# Separate features and target variable\n",
        "X = df2.drop(['era', 'target_10_val', 'target_5_val', 'data_type'], axis=1)\n",
        "y = df2['era']"
      ],
      "metadata": {
        "id": "h2SurnLnmjI8"
      },
      "execution_count": null,
      "outputs": []
    },
    {
      "cell_type": "code",
      "source": [
        "X_train, X_test, y_train, y_test = train_test_split(X, y, test_size=0.2, random_state=42)\n"
      ],
      "metadata": {
        "id": "BbIjfxecmiSc"
      },
      "execution_count": null,
      "outputs": []
    },
    {
      "cell_type": "code",
      "source": [
        "X_train.shape"
      ],
      "metadata": {
        "colab": {
          "base_uri": "https://localhost:8080/"
        },
        "id": "w2KcXlvjmqCM",
        "outputId": "a0793626-734e-4783-8b7d-88c77d70c8fc"
      },
      "execution_count": null,
      "outputs": [
        {
          "output_type": "execute_result",
          "data": {
            "text/plain": [
              "(249600, 26)"
            ]
          },
          "metadata": {},
          "execution_count": 43
        }
      ]
    },
    {
      "cell_type": "code",
      "source": [
        "X_test.shape"
      ],
      "metadata": {
        "colab": {
          "base_uri": "https://localhost:8080/"
        },
        "id": "224-A_h-mriI",
        "outputId": "fc6a94e8-092f-4452-d64a-93576529c7e6"
      },
      "execution_count": null,
      "outputs": [
        {
          "output_type": "execute_result",
          "data": {
            "text/plain": [
              "(62400, 26)"
            ]
          },
          "metadata": {},
          "execution_count": 44
        }
      ]
    },
    {
      "cell_type": "code",
      "source": [
        "# Initialize the Random Forest classifier with desired hyperparameters\n",
        "rf_classifier2 = RandomForestClassifier(n_estimators=100, random_state=42)\n",
        "\n",
        "# Train the Random Forest classifier on the training data\n",
        "rf_classifier2.fit(X_train, y_train)\n",
        "\n",
        "# Predictions on training set\n",
        "train_predictions = rf_classifier2.predict(X_train)\n",
        "\n",
        "# Predictions on testing set\n",
        "test_predictions = rf_classifier2.predict(X_test)\n",
        "\n",
        "# Calculate and print accuracy on training set\n",
        "train_accuracy = accuracy_score(y_train, train_predictions)\n",
        "print(f'Training Accuracy: {train_accuracy:.2f}')\n",
        "\n",
        "# Calculate and print accuracy on testing set\n",
        "test_accuracy = accuracy_score(y_test, test_predictions)\n",
        "print(f'Testing Accuracy: {test_accuracy:.2f}')\n"
      ],
      "metadata": {
        "colab": {
          "base_uri": "https://localhost:8080/"
        },
        "id": "SEv1SH8smu0M",
        "outputId": "6d5b6388-0445-43cf-ea3b-186e1b73eb89"
      },
      "execution_count": null,
      "outputs": [
        {
          "output_type": "stream",
          "name": "stdout",
          "text": [
            "Training Accuracy: 0.99\n",
            "Testing Accuracy: 0.83\n"
          ]
        }
      ]
    },
    {
      "cell_type": "code",
      "source": [
        "# Initialize the Gradient Boosting classifier\n",
        "gb_classifier2 = GradientBoostingClassifier(n_estimators=100, random_state=42)\n",
        "\n",
        "# Train the Gradient Boosting classifier on the training data\n",
        "gb_classifier2.fit(X_train, y_train)\n",
        "\n",
        "# Predictions on training set\n",
        "train_predictions = gb_classifier2.predict(X_train)\n",
        "\n",
        "# Predictions on testing set\n",
        "test_predictions = gb_classifier2.predict(X_test)\n",
        "\n",
        "# Calculate and print accuracy on training set\n",
        "train_accuracy = accuracy_score(y_train, train_predictions)\n",
        "print(f'Training Accuracy: {train_accuracy:.2f}')\n",
        "\n",
        "# Calculate and print accuracy on testing set\n",
        "test_accuracy = accuracy_score(y_test, test_predictions)\n",
        "print(f'Testing Accuracy: {test_accuracy:.2f}')\n"
      ],
      "metadata": {
        "colab": {
          "base_uri": "https://localhost:8080/"
        },
        "id": "RQWGYthdxP_d",
        "outputId": "c0779122-6d26-4270-d414-d344b7da3824"
      },
      "execution_count": null,
      "outputs": [
        {
          "output_type": "stream",
          "name": "stdout",
          "text": [
            "Training Accuracy: 0.77\n",
            "Testing Accuracy: 0.77\n"
          ]
        }
      ]
    },
    {
      "cell_type": "code",
      "source": [
        "# Define the noise-robustness attention mechanism\n",
        "def attention_mechanism(input_dim):\n",
        "    inputs = layers.Input(shape=(input_dim,))\n",
        "    attention_scores = layers.Dense(input_dim, activation='softmax')(inputs)\n",
        "    return models.Model(inputs=inputs, outputs=attention_scores)\n",
        "\n",
        "# Load your dataset and preprocess it if necessary\n",
        "# Assuming you have X_train, X_test, y_train, y_test loaded\n",
        "\n",
        "# Initialize the MLPClassifier model\n",
        "input_dim = X_train.shape[1]  # Number of features in the dataset\n",
        "num_classes = len(np.unique(y_train))  # Number of classes in the target variable\n",
        "\n",
        "mlp_classifier = models.Sequential([\n",
        "    layers.Dense(64, activation='relu', input_shape=(input_dim,)),\n",
        "    layers.Dense(150, activation='relu'),\n",
        "    layers.Dense(100, activation='relu'),\n",
        "    layers.Dense(50, activation='relu'),\n",
        "    layers.Dense(num_classes, activation='softmax')\n",
        "])\n",
        "# Compile the model\n",
        "mlp_classifier.compile(optimizer='adam', loss='sparse_categorical_crossentropy', metrics=['accuracy'])\n",
        "\n",
        "# Train the model with gradient scaling using attention mechanism\n",
        "def train_with_attention(X_train, y_train, X_test, y_test):\n",
        "    # Initialize the attention mechanism\n",
        "    attention_model = attention_mechanism(input_dim)\n",
        "\n",
        "    # Train the attention mechanism\n",
        "    attention_model.compile(optimizer='adam', loss='mse')\n",
        "    attention_model.fit(X_train, X_train, epochs=10, batch_size=32, verbose=0)\n",
        "\n",
        "    # Compute attention scores\n",
        "    attention_scores = attention_model.predict(X_train)\n",
        "\n",
        "    # Scale gradients based on attention scores\n",
        "    scaled_gradients = X_train * attention_scores\n",
        "\n",
        "    # Train MLP classifier with scaled gradients\n",
        "    mlp_classifier.fit(scaled_gradients, y_train, epochs=10, batch_size=32, verbose=0)\n",
        "\n",
        "# Call the train_with_attention function with your dataset\n",
        "train_with_attention(X_train, y_train, X_test, y_test)\n",
        "\n",
        "# Predictions on training set\n",
        "train_predictions = np.argmax(mlp_classifier.predict(X_train), axis=1)\n",
        "\n",
        "# Predictions on testing set\n",
        "test_predictions = np.argmax(mlp_classifier.predict(X_test), axis=1)\n",
        "\n",
        "# Calculate and print accuracy on training set\n",
        "train_accuracy = accuracy_score(y_train, train_predictions)\n",
        "print(f'Training Accuracy: {train_accuracy:.2f}')\n",
        "\n",
        "# Calculate and print accuracy on testing set\n",
        "test_accuracy = accuracy_score(y_test, test_predictions)\n",
        "print(f'Testing Accuracy: {test_accuracy:.2f}')\n"
      ],
      "metadata": {
        "colab": {
          "base_uri": "https://localhost:8080/"
        },
        "id": "R_iLzFhT1jfL",
        "outputId": "66c881a2-3a05-4b09-b908-c8c35d661ede"
      },
      "execution_count": null,
      "outputs": [
        {
          "output_type": "stream",
          "name": "stdout",
          "text": [
            "7800/7800 [==============================] - 12s 1ms/step\n",
            "7800/7800 [==============================] - 13s 2ms/step\n",
            "1950/1950 [==============================] - 4s 2ms/step\n",
            "Training Accuracy: 0.08\n",
            "Testing Accuracy: 0.08\n"
          ]
        }
      ]
    },
    {
      "cell_type": "markdown",
      "source": [
        "# HIGH NOISE"
      ],
      "metadata": {
        "id": "GTOwSSymnqpo"
      }
    },
    {
      "cell_type": "code",
      "source": [
        "df3 = pd.read_csv(\"/content/drive/MyDrive/AML/A1/df_synA_test_hard_shuffled_sample.csv\")"
      ],
      "metadata": {
        "id": "nApCF3B6nr2N"
      },
      "execution_count": null,
      "outputs": []
    },
    {
      "cell_type": "code",
      "source": [
        "df3 = df3.sample(frac = 1)"
      ],
      "metadata": {
        "id": "3l637cz6n2TO"
      },
      "execution_count": null,
      "outputs": []
    },
    {
      "cell_type": "code",
      "source": [
        "df3.head()"
      ],
      "metadata": {
        "colab": {
          "base_uri": "https://localhost:8080/",
          "height": 273
        },
        "id": "d8Gryz83oDL0",
        "outputId": "52f8fe43-0c99-45b0-ad91-661a59362e47"
      },
      "execution_count": null,
      "outputs": [
        {
          "output_type": "execute_result",
          "data": {
            "text/plain": [
              "        Open_n_val  High_n_val  Low_n_val  Close_n_val  Volume_n_val  \\\n",
              "4887          0.00        0.00       0.00         0.00           0.0   \n",
              "177849        0.00        0.00       0.00         0.00           0.0   \n",
              "5846          0.25        0.25       0.50         0.50           0.0   \n",
              "183195        1.00        1.00       1.00         0.75           0.0   \n",
              "244626        0.00        0.25       0.25         0.25           0.0   \n",
              "\n",
              "        SMA_10_val  SMA_20_val  CMO_14_val  High_n-Low_n_val  \\\n",
              "4887          0.00        0.00         0.0              0.25   \n",
              "177849        0.00        0.00         0.0              0.50   \n",
              "5846          0.25        0.75         0.5              0.00   \n",
              "183195        1.00        1.00         0.0              0.50   \n",
              "244626        0.00        0.00         0.5              0.50   \n",
              "\n",
              "        Open_n-Close_n_val  ...  SMA_20-SMA_10_changelen_val  \\\n",
              "4887                  1.00  ...                         0.25   \n",
              "177849                0.75  ...                         0.50   \n",
              "5846                  0.00  ...                         1.00   \n",
              "183195                1.00  ...                         0.75   \n",
              "244626                0.25  ...                         1.00   \n",
              "\n",
              "        Close_n_slope_3_changelen_val  Close_n_slope_5_changelen_val  \\\n",
              "4887                             1.00                           1.00   \n",
              "177849                           0.00                           0.50   \n",
              "5846                             1.00                           1.00   \n",
              "183195                           0.25                           0.25   \n",
              "244626                           1.00                           0.50   \n",
              "\n",
              "        Close_n_slope_10_changelen_val  row_num  day  era  target_10_val  \\\n",
              "4887                              1.00       89  535    7           0.00   \n",
              "177849                            0.00      126  484   23           0.25   \n",
              "5846                              0.75      120  387   17           1.00   \n",
              "183195                            0.25      103  464   16           0.75   \n",
              "244626                            1.00      112  374   16           0.25   \n",
              "\n",
              "        target_5_val   data_type  \n",
              "4887            0.00  validation  \n",
              "177849          0.25  validation  \n",
              "5846            1.00  validation  \n",
              "183195          0.75  validation  \n",
              "244626          1.00  validation  \n",
              "\n",
              "[5 rows x 30 columns]"
            ],
            "text/html": [
              "\n",
              "  <div id=\"df-28d134a5-ad8d-4233-aee2-4bc9097608fc\" class=\"colab-df-container\">\n",
              "    <div>\n",
              "<style scoped>\n",
              "    .dataframe tbody tr th:only-of-type {\n",
              "        vertical-align: middle;\n",
              "    }\n",
              "\n",
              "    .dataframe tbody tr th {\n",
              "        vertical-align: top;\n",
              "    }\n",
              "\n",
              "    .dataframe thead th {\n",
              "        text-align: right;\n",
              "    }\n",
              "</style>\n",
              "<table border=\"1\" class=\"dataframe\">\n",
              "  <thead>\n",
              "    <tr style=\"text-align: right;\">\n",
              "      <th></th>\n",
              "      <th>Open_n_val</th>\n",
              "      <th>High_n_val</th>\n",
              "      <th>Low_n_val</th>\n",
              "      <th>Close_n_val</th>\n",
              "      <th>Volume_n_val</th>\n",
              "      <th>SMA_10_val</th>\n",
              "      <th>SMA_20_val</th>\n",
              "      <th>CMO_14_val</th>\n",
              "      <th>High_n-Low_n_val</th>\n",
              "      <th>Open_n-Close_n_val</th>\n",
              "      <th>...</th>\n",
              "      <th>SMA_20-SMA_10_changelen_val</th>\n",
              "      <th>Close_n_slope_3_changelen_val</th>\n",
              "      <th>Close_n_slope_5_changelen_val</th>\n",
              "      <th>Close_n_slope_10_changelen_val</th>\n",
              "      <th>row_num</th>\n",
              "      <th>day</th>\n",
              "      <th>era</th>\n",
              "      <th>target_10_val</th>\n",
              "      <th>target_5_val</th>\n",
              "      <th>data_type</th>\n",
              "    </tr>\n",
              "  </thead>\n",
              "  <tbody>\n",
              "    <tr>\n",
              "      <th>4887</th>\n",
              "      <td>0.00</td>\n",
              "      <td>0.00</td>\n",
              "      <td>0.00</td>\n",
              "      <td>0.00</td>\n",
              "      <td>0.0</td>\n",
              "      <td>0.00</td>\n",
              "      <td>0.00</td>\n",
              "      <td>0.0</td>\n",
              "      <td>0.25</td>\n",
              "      <td>1.00</td>\n",
              "      <td>...</td>\n",
              "      <td>0.25</td>\n",
              "      <td>1.00</td>\n",
              "      <td>1.00</td>\n",
              "      <td>1.00</td>\n",
              "      <td>89</td>\n",
              "      <td>535</td>\n",
              "      <td>7</td>\n",
              "      <td>0.00</td>\n",
              "      <td>0.00</td>\n",
              "      <td>validation</td>\n",
              "    </tr>\n",
              "    <tr>\n",
              "      <th>177849</th>\n",
              "      <td>0.00</td>\n",
              "      <td>0.00</td>\n",
              "      <td>0.00</td>\n",
              "      <td>0.00</td>\n",
              "      <td>0.0</td>\n",
              "      <td>0.00</td>\n",
              "      <td>0.00</td>\n",
              "      <td>0.0</td>\n",
              "      <td>0.50</td>\n",
              "      <td>0.75</td>\n",
              "      <td>...</td>\n",
              "      <td>0.50</td>\n",
              "      <td>0.00</td>\n",
              "      <td>0.50</td>\n",
              "      <td>0.00</td>\n",
              "      <td>126</td>\n",
              "      <td>484</td>\n",
              "      <td>23</td>\n",
              "      <td>0.25</td>\n",
              "      <td>0.25</td>\n",
              "      <td>validation</td>\n",
              "    </tr>\n",
              "    <tr>\n",
              "      <th>5846</th>\n",
              "      <td>0.25</td>\n",
              "      <td>0.25</td>\n",
              "      <td>0.50</td>\n",
              "      <td>0.50</td>\n",
              "      <td>0.0</td>\n",
              "      <td>0.25</td>\n",
              "      <td>0.75</td>\n",
              "      <td>0.5</td>\n",
              "      <td>0.00</td>\n",
              "      <td>0.00</td>\n",
              "      <td>...</td>\n",
              "      <td>1.00</td>\n",
              "      <td>1.00</td>\n",
              "      <td>1.00</td>\n",
              "      <td>0.75</td>\n",
              "      <td>120</td>\n",
              "      <td>387</td>\n",
              "      <td>17</td>\n",
              "      <td>1.00</td>\n",
              "      <td>1.00</td>\n",
              "      <td>validation</td>\n",
              "    </tr>\n",
              "    <tr>\n",
              "      <th>183195</th>\n",
              "      <td>1.00</td>\n",
              "      <td>1.00</td>\n",
              "      <td>1.00</td>\n",
              "      <td>0.75</td>\n",
              "      <td>0.0</td>\n",
              "      <td>1.00</td>\n",
              "      <td>1.00</td>\n",
              "      <td>0.0</td>\n",
              "      <td>0.50</td>\n",
              "      <td>1.00</td>\n",
              "      <td>...</td>\n",
              "      <td>0.75</td>\n",
              "      <td>0.25</td>\n",
              "      <td>0.25</td>\n",
              "      <td>0.25</td>\n",
              "      <td>103</td>\n",
              "      <td>464</td>\n",
              "      <td>16</td>\n",
              "      <td>0.75</td>\n",
              "      <td>0.75</td>\n",
              "      <td>validation</td>\n",
              "    </tr>\n",
              "    <tr>\n",
              "      <th>244626</th>\n",
              "      <td>0.00</td>\n",
              "      <td>0.25</td>\n",
              "      <td>0.25</td>\n",
              "      <td>0.25</td>\n",
              "      <td>0.0</td>\n",
              "      <td>0.00</td>\n",
              "      <td>0.00</td>\n",
              "      <td>0.5</td>\n",
              "      <td>0.50</td>\n",
              "      <td>0.25</td>\n",
              "      <td>...</td>\n",
              "      <td>1.00</td>\n",
              "      <td>1.00</td>\n",
              "      <td>0.50</td>\n",
              "      <td>1.00</td>\n",
              "      <td>112</td>\n",
              "      <td>374</td>\n",
              "      <td>16</td>\n",
              "      <td>0.25</td>\n",
              "      <td>1.00</td>\n",
              "      <td>validation</td>\n",
              "    </tr>\n",
              "  </tbody>\n",
              "</table>\n",
              "<p>5 rows × 30 columns</p>\n",
              "</div>\n",
              "    <div class=\"colab-df-buttons\">\n",
              "\n",
              "  <div class=\"colab-df-container\">\n",
              "    <button class=\"colab-df-convert\" onclick=\"convertToInteractive('df-28d134a5-ad8d-4233-aee2-4bc9097608fc')\"\n",
              "            title=\"Convert this dataframe to an interactive table.\"\n",
              "            style=\"display:none;\">\n",
              "\n",
              "  <svg xmlns=\"http://www.w3.org/2000/svg\" height=\"24px\" viewBox=\"0 -960 960 960\">\n",
              "    <path d=\"M120-120v-720h720v720H120Zm60-500h600v-160H180v160Zm220 220h160v-160H400v160Zm0 220h160v-160H400v160ZM180-400h160v-160H180v160Zm440 0h160v-160H620v160ZM180-180h160v-160H180v160Zm440 0h160v-160H620v160Z\"/>\n",
              "  </svg>\n",
              "    </button>\n",
              "\n",
              "  <style>\n",
              "    .colab-df-container {\n",
              "      display:flex;\n",
              "      gap: 12px;\n",
              "    }\n",
              "\n",
              "    .colab-df-convert {\n",
              "      background-color: #E8F0FE;\n",
              "      border: none;\n",
              "      border-radius: 50%;\n",
              "      cursor: pointer;\n",
              "      display: none;\n",
              "      fill: #1967D2;\n",
              "      height: 32px;\n",
              "      padding: 0 0 0 0;\n",
              "      width: 32px;\n",
              "    }\n",
              "\n",
              "    .colab-df-convert:hover {\n",
              "      background-color: #E2EBFA;\n",
              "      box-shadow: 0px 1px 2px rgba(60, 64, 67, 0.3), 0px 1px 3px 1px rgba(60, 64, 67, 0.15);\n",
              "      fill: #174EA6;\n",
              "    }\n",
              "\n",
              "    .colab-df-buttons div {\n",
              "      margin-bottom: 4px;\n",
              "    }\n",
              "\n",
              "    [theme=dark] .colab-df-convert {\n",
              "      background-color: #3B4455;\n",
              "      fill: #D2E3FC;\n",
              "    }\n",
              "\n",
              "    [theme=dark] .colab-df-convert:hover {\n",
              "      background-color: #434B5C;\n",
              "      box-shadow: 0px 1px 3px 1px rgba(0, 0, 0, 0.15);\n",
              "      filter: drop-shadow(0px 1px 2px rgba(0, 0, 0, 0.3));\n",
              "      fill: #FFFFFF;\n",
              "    }\n",
              "  </style>\n",
              "\n",
              "    <script>\n",
              "      const buttonEl =\n",
              "        document.querySelector('#df-28d134a5-ad8d-4233-aee2-4bc9097608fc button.colab-df-convert');\n",
              "      buttonEl.style.display =\n",
              "        google.colab.kernel.accessAllowed ? 'block' : 'none';\n",
              "\n",
              "      async function convertToInteractive(key) {\n",
              "        const element = document.querySelector('#df-28d134a5-ad8d-4233-aee2-4bc9097608fc');\n",
              "        const dataTable =\n",
              "          await google.colab.kernel.invokeFunction('convertToInteractive',\n",
              "                                                    [key], {});\n",
              "        if (!dataTable) return;\n",
              "\n",
              "        const docLinkHtml = 'Like what you see? Visit the ' +\n",
              "          '<a target=\"_blank\" href=https://colab.research.google.com/notebooks/data_table.ipynb>data table notebook</a>'\n",
              "          + ' to learn more about interactive tables.';\n",
              "        element.innerHTML = '';\n",
              "        dataTable['output_type'] = 'display_data';\n",
              "        await google.colab.output.renderOutput(dataTable, element);\n",
              "        const docLink = document.createElement('div');\n",
              "        docLink.innerHTML = docLinkHtml;\n",
              "        element.appendChild(docLink);\n",
              "      }\n",
              "    </script>\n",
              "  </div>\n",
              "\n",
              "\n",
              "<div id=\"df-f088279f-0183-4c63-b28a-e3537290c73a\">\n",
              "  <button class=\"colab-df-quickchart\" onclick=\"quickchart('df-f088279f-0183-4c63-b28a-e3537290c73a')\"\n",
              "            title=\"Suggest charts\"\n",
              "            style=\"display:none;\">\n",
              "\n",
              "<svg xmlns=\"http://www.w3.org/2000/svg\" height=\"24px\"viewBox=\"0 0 24 24\"\n",
              "     width=\"24px\">\n",
              "    <g>\n",
              "        <path d=\"M19 3H5c-1.1 0-2 .9-2 2v14c0 1.1.9 2 2 2h14c1.1 0 2-.9 2-2V5c0-1.1-.9-2-2-2zM9 17H7v-7h2v7zm4 0h-2V7h2v10zm4 0h-2v-4h2v4z\"/>\n",
              "    </g>\n",
              "</svg>\n",
              "  </button>\n",
              "\n",
              "<style>\n",
              "  .colab-df-quickchart {\n",
              "      --bg-color: #E8F0FE;\n",
              "      --fill-color: #1967D2;\n",
              "      --hover-bg-color: #E2EBFA;\n",
              "      --hover-fill-color: #174EA6;\n",
              "      --disabled-fill-color: #AAA;\n",
              "      --disabled-bg-color: #DDD;\n",
              "  }\n",
              "\n",
              "  [theme=dark] .colab-df-quickchart {\n",
              "      --bg-color: #3B4455;\n",
              "      --fill-color: #D2E3FC;\n",
              "      --hover-bg-color: #434B5C;\n",
              "      --hover-fill-color: #FFFFFF;\n",
              "      --disabled-bg-color: #3B4455;\n",
              "      --disabled-fill-color: #666;\n",
              "  }\n",
              "\n",
              "  .colab-df-quickchart {\n",
              "    background-color: var(--bg-color);\n",
              "    border: none;\n",
              "    border-radius: 50%;\n",
              "    cursor: pointer;\n",
              "    display: none;\n",
              "    fill: var(--fill-color);\n",
              "    height: 32px;\n",
              "    padding: 0;\n",
              "    width: 32px;\n",
              "  }\n",
              "\n",
              "  .colab-df-quickchart:hover {\n",
              "    background-color: var(--hover-bg-color);\n",
              "    box-shadow: 0 1px 2px rgba(60, 64, 67, 0.3), 0 1px 3px 1px rgba(60, 64, 67, 0.15);\n",
              "    fill: var(--button-hover-fill-color);\n",
              "  }\n",
              "\n",
              "  .colab-df-quickchart-complete:disabled,\n",
              "  .colab-df-quickchart-complete:disabled:hover {\n",
              "    background-color: var(--disabled-bg-color);\n",
              "    fill: var(--disabled-fill-color);\n",
              "    box-shadow: none;\n",
              "  }\n",
              "\n",
              "  .colab-df-spinner {\n",
              "    border: 2px solid var(--fill-color);\n",
              "    border-color: transparent;\n",
              "    border-bottom-color: var(--fill-color);\n",
              "    animation:\n",
              "      spin 1s steps(1) infinite;\n",
              "  }\n",
              "\n",
              "  @keyframes spin {\n",
              "    0% {\n",
              "      border-color: transparent;\n",
              "      border-bottom-color: var(--fill-color);\n",
              "      border-left-color: var(--fill-color);\n",
              "    }\n",
              "    20% {\n",
              "      border-color: transparent;\n",
              "      border-left-color: var(--fill-color);\n",
              "      border-top-color: var(--fill-color);\n",
              "    }\n",
              "    30% {\n",
              "      border-color: transparent;\n",
              "      border-left-color: var(--fill-color);\n",
              "      border-top-color: var(--fill-color);\n",
              "      border-right-color: var(--fill-color);\n",
              "    }\n",
              "    40% {\n",
              "      border-color: transparent;\n",
              "      border-right-color: var(--fill-color);\n",
              "      border-top-color: var(--fill-color);\n",
              "    }\n",
              "    60% {\n",
              "      border-color: transparent;\n",
              "      border-right-color: var(--fill-color);\n",
              "    }\n",
              "    80% {\n",
              "      border-color: transparent;\n",
              "      border-right-color: var(--fill-color);\n",
              "      border-bottom-color: var(--fill-color);\n",
              "    }\n",
              "    90% {\n",
              "      border-color: transparent;\n",
              "      border-bottom-color: var(--fill-color);\n",
              "    }\n",
              "  }\n",
              "</style>\n",
              "\n",
              "  <script>\n",
              "    async function quickchart(key) {\n",
              "      const quickchartButtonEl =\n",
              "        document.querySelector('#' + key + ' button');\n",
              "      quickchartButtonEl.disabled = true;  // To prevent multiple clicks.\n",
              "      quickchartButtonEl.classList.add('colab-df-spinner');\n",
              "      try {\n",
              "        const charts = await google.colab.kernel.invokeFunction(\n",
              "            'suggestCharts', [key], {});\n",
              "      } catch (error) {\n",
              "        console.error('Error during call to suggestCharts:', error);\n",
              "      }\n",
              "      quickchartButtonEl.classList.remove('colab-df-spinner');\n",
              "      quickchartButtonEl.classList.add('colab-df-quickchart-complete');\n",
              "    }\n",
              "    (() => {\n",
              "      let quickchartButtonEl =\n",
              "        document.querySelector('#df-f088279f-0183-4c63-b28a-e3537290c73a button');\n",
              "      quickchartButtonEl.style.display =\n",
              "        google.colab.kernel.accessAllowed ? 'block' : 'none';\n",
              "    })();\n",
              "  </script>\n",
              "</div>\n",
              "    </div>\n",
              "  </div>\n"
            ]
          },
          "metadata": {},
          "execution_count": 31
        }
      ]
    },
    {
      "cell_type": "code",
      "source": [
        "df3.shape"
      ],
      "metadata": {
        "colab": {
          "base_uri": "https://localhost:8080/"
        },
        "id": "FeiZZVFPoOD6",
        "outputId": "ee6f0127-5649-489f-daa2-fede1d1e7049"
      },
      "execution_count": null,
      "outputs": [
        {
          "output_type": "execute_result",
          "data": {
            "text/plain": [
              "(249600, 30)"
            ]
          },
          "metadata": {},
          "execution_count": 32
        }
      ]
    },
    {
      "cell_type": "code",
      "source": [
        "# Separate features and target variable\n",
        "X = df3.drop(['era', 'target_10_val', 'target_5_val', 'data_type'], axis=1)\n",
        "y = df3['era']"
      ],
      "metadata": {
        "id": "jF696Pmbn2EW"
      },
      "execution_count": null,
      "outputs": []
    },
    {
      "cell_type": "code",
      "source": [
        "X_train, X_test, y_train, y_test = train_test_split(X, y, test_size=0.2, random_state=42)\n"
      ],
      "metadata": {
        "id": "mTyJPjDSn2B4"
      },
      "execution_count": null,
      "outputs": []
    },
    {
      "cell_type": "code",
      "source": [
        "# Initialize the Random Forest classifier with desired hyperparameters\n",
        "rf_classifier3 = RandomForestClassifier(n_estimators=200, random_state=42)\n",
        "\n",
        "# Train the Random Forest classifier on the training data\n",
        "rf_classifier3.fit(X_train, y_train)\n",
        "\n",
        "# Predictions on training set\n",
        "train_predictions = rf_classifier3.predict(X_train)\n",
        "\n",
        "# Predictions on testing set\n",
        "test_predictions = rf_classifier3.predict(X_test)\n",
        "\n",
        "# Calculate and print accuracy on training set\n",
        "train_accuracy = accuracy_score(y_train, train_predictions)\n",
        "print(f'Training Accuracy: {train_accuracy:.2f}')\n",
        "\n",
        "# Calculate and print accuracy on testing set\n",
        "test_accuracy = accuracy_score(y_test, test_predictions)\n",
        "print(f'Testing Accuracy: {test_accuracy:.2f}')\n"
      ],
      "metadata": {
        "colab": {
          "base_uri": "https://localhost:8080/"
        },
        "id": "JpcCofPwn1-_",
        "outputId": "168e2259-6013-4a99-8869-bc8cb5fff800"
      },
      "execution_count": null,
      "outputs": [
        {
          "output_type": "stream",
          "name": "stdout",
          "text": [
            "Training Accuracy: 1.00\n",
            "Testing Accuracy: 0.59\n"
          ]
        }
      ]
    },
    {
      "cell_type": "code",
      "source": [
        "# Initialize the Gradient Boosting classifier\n",
        "gb_classifier3 = GradientBoostingClassifier(n_estimators=100, random_state=42)\n",
        "\n",
        "# Train the Gradient Boosting classifier on the training data\n",
        "gb_classifier3.fit(X_train, y_train)\n",
        "\n",
        "# Predictions on training set\n",
        "train_predictions = gb_classifier3.predict(X_train)\n",
        "\n",
        "# Predictions on testing set\n",
        "test_predictions = gb_classifier3.predict(X_test)\n",
        "\n",
        "# Calculate and print accuracy on training set\n",
        "train_accuracy = accuracy_score(y_train, train_predictions)\n",
        "print(f'Training Accuracy: {train_accuracy:.2f}')\n",
        "\n",
        "# Calculate and print accuracy on testing set\n",
        "test_accuracy = accuracy_score(y_test, test_predictions)\n",
        "print(f'Testing Accuracy: {test_accuracy:.2f}')\n"
      ],
      "metadata": {
        "colab": {
          "base_uri": "https://localhost:8080/"
        },
        "id": "XNuCd_d1ppEb",
        "outputId": "e5387bdd-7b79-423d-c7f1-611497fdde33"
      },
      "execution_count": null,
      "outputs": [
        {
          "output_type": "stream",
          "name": "stdout",
          "text": [
            "Training Accuracy: 0.53\n",
            "Testing Accuracy: 0.52\n"
          ]
        }
      ]
    },
    {
      "cell_type": "code",
      "source": [
        "# Initialize the AdaBoost classifier\n",
        "adaboost_classifier3 = AdaBoostClassifier(n_estimators=100, random_state=42)\n",
        "\n",
        "# Train the AdaBoost classifier on the training data\n",
        "adaboost_classifier3.fit(X_train, y_train)\n",
        "\n",
        "# Predictions on training set\n",
        "train_predictions = adaboost_classifier3.predict(X_train)\n",
        "\n",
        "# Predictions on testing set\n",
        "test_predictions = adaboost_classifier3.predict(X_test)\n",
        "\n",
        "# Calculate and print accuracy on training set\n",
        "train_accuracy = accuracy_score(y_train, train_predictions)\n",
        "print(f'Training Accuracy: {train_accuracy:.2f}')\n",
        "\n",
        "# Calculate and print accuracy on testing set\n",
        "test_accuracy = accuracy_score(y_test, test_predictions)\n",
        "print(f'Testing Accuracy: {test_accuracy:.2f}')"
      ],
      "metadata": {
        "colab": {
          "base_uri": "https://localhost:8080/"
        },
        "id": "RbWCm2h2riYk",
        "outputId": "49128e3d-4672-4464-99ed-1320d353a3f7"
      },
      "execution_count": null,
      "outputs": [
        {
          "output_type": "stream",
          "name": "stdout",
          "text": [
            "Training Accuracy: 0.34\n",
            "Testing Accuracy: 0.34\n"
          ]
        }
      ]
    },
    {
      "cell_type": "code",
      "source": [],
      "metadata": {
        "id": "E2Hf4O3h1iUw"
      },
      "execution_count": null,
      "outputs": []
    }
  ]
}